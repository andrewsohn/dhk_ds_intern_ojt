{
 "cells": [
  {
   "cell_type": "code",
   "execution_count": 1,
   "metadata": {},
   "outputs": [
    {
     "name": "stderr",
     "output_type": "stream",
     "text": [
      "/home/nbuser/anaconda3_501/lib/python3.6/importlib/_bootstrap.py:219: RuntimeWarning: compiletime version 3.5 of module 'tensorflow.python.framework.fast_tensor_util' does not match runtime version 3.6\n",
      "  return f(*args, **kwds)\n"
     ]
    }
   ],
   "source": [
    "import glob\n",
    "import os\n",
    "import numpy as np\n",
    "import matplotlib.pyplot as plt\n",
    "import tensorflow as tf\n",
    "import sys\n",
    "\n",
    "\n",
    "def one_hot_encode(labels):\n",
    "    n_labels = len(labels)\n",
    "    n_unique_labels = 10 # len(np.unique(labels))\n",
    "    one_hot = np.zeros((n_labels,n_unique_labels))\n",
    "    one_hot[np.arange(n_labels), labels] = 1\n",
    "    return one_hot"
   ]
  },
  {
   "cell_type": "code",
   "execution_count": 5,
   "metadata": {},
   "outputs": [
    {
     "name": "stdout",
     "output_type": "stream",
     "text": [
      "Audio Data Loading Done\n",
      "feature. shape (57, 193)\n",
      "label. shape (57,)\n",
      "31323-3-0-2.wav [ 0.  0.  0.  1.  0.  0.  0.  0.  0.  0.]\n",
      "19026-1-0-0.wav [ 0.  1.  0.  0.  0.  0.  0.  0.  0.  0.]\n",
      "24074-1-0-1.wav [ 0.  1.  0.  0.  0.  0.  0.  0.  0.  0.]\n",
      "72261-3-0-6.wav [ 0.  0.  0.  1.  0.  0.  0.  0.  0.  0.]\n",
      "105415-2-0-4.wav [ 0.  0.  1.  0.  0.  0.  0.  0.  0.  0.]\n",
      "105415-2-0-6.wav [ 0.  0.  1.  0.  0.  0.  0.  0.  0.  0.]\n",
      "54858-3-2-0.wav [ 0.  0.  0.  1.  0.  0.  0.  0.  0.  0.]\n",
      "72579-3-0-2.wav [ 0.  0.  0.  1.  0.  0.  0.  0.  0.  0.]\n",
      "31840-3-1-0.wav [ 0.  0.  0.  1.  0.  0.  0.  0.  0.  0.]\n",
      "94868-1-0-0.wav [ 0.  1.  0.  0.  0.  0.  0.  0.  0.  0.]\n",
      "105415-2-0-8.wav [ 0.  0.  1.  0.  0.  0.  0.  0.  0.  0.]\n",
      "65749-3-1-9.wav [ 0.  0.  0.  1.  0.  0.  0.  0.  0.  0.]\n",
      "24074-1-0-8.wav [ 0.  1.  0.  0.  0.  0.  0.  0.  0.  0.]\n",
      "24074-1-0-2.wav [ 0.  1.  0.  0.  0.  0.  0.  0.  0.  0.]\n",
      "24074-1-0-3.wav [ 0.  1.  0.  0.  0.  0.  0.  0.  0.  0.]\n",
      "54858-3-1-2.wav [ 0.  0.  0.  1.  0.  0.  0.  0.  0.  0.]\n",
      "15564-2-0-0.wav [ 0.  0.  1.  0.  0.  0.  0.  0.  0.  0.]\n",
      "105415-2-0-1.wav [ 0.  0.  1.  0.  0.  0.  0.  0.  0.  0.]\n",
      "87275-1-2-0.wav [ 0.  1.  0.  0.  0.  0.  0.  0.  0.  0.]\n",
      "101415-3-0-3.wav [ 0.  0.  0.  1.  0.  0.  0.  0.  0.  0.]\n",
      "24074-1-0-4.wav [ 0.  1.  0.  0.  0.  0.  0.  0.  0.  0.]\n",
      "94868-1-1-0.wav [ 0.  1.  0.  0.  0.  0.  0.  0.  0.  0.]\n",
      "87275-1-5-0.wav [ 0.  1.  0.  0.  0.  0.  0.  0.  0.  0.]\n",
      "94868-1-2-0.wav [ 0.  1.  0.  0.  0.  0.  0.  0.  0.  0.]\n",
      "72579-3-0-4.wav [ 0.  0.  0.  1.  0.  0.  0.  0.  0.  0.]\n",
      "101415-3-0-2.wav [ 0.  0.  0.  1.  0.  0.  0.  0.  0.  0.]\n",
      "24074-1-0-10.wav [ 0.  1.  0.  0.  0.  0.  0.  0.  0.  0.]\n",
      "9031-3-3-0.wav [ 0.  0.  0.  1.  0.  0.  0.  0.  0.  0.]\n",
      "9031-3-1-0.wav [ 0.  0.  0.  1.  0.  0.  0.  0.  0.  0.]\n",
      "138031-2-0-2.wav [ 0.  0.  1.  0.  0.  0.  0.  0.  0.  0.]\n",
      "72579-3-0-3.wav [ 0.  0.  0.  1.  0.  0.  0.  0.  0.  0.]\n",
      "24074-1-0-5.wav [ 0.  1.  0.  0.  0.  0.  0.  0.  0.  0.]\n",
      "138031-2-0-7.wav [ 0.  0.  1.  0.  0.  0.  0.  0.  0.  0.]\n",
      "54858-3-0-0.wav [ 0.  0.  0.  1.  0.  0.  0.  0.  0.  0.]\n",
      "9031-3-2-0.wav [ 0.  0.  0.  1.  0.  0.  0.  0.  0.  0.]\n",
      "15564-2-0-1.wav [ 0.  0.  1.  0.  0.  0.  0.  0.  0.  0.]\n",
      "9031-3-4-0.wav [ 0.  0.  0.  1.  0.  0.  0.  0.  0.  0.]\n",
      "24074-1-0-6.wav [ 0.  1.  0.  0.  0.  0.  0.  0.  0.  0.]\n",
      "87275-1-0-0.wav [ 0.  1.  0.  0.  0.  0.  0.  0.  0.  0.]\n",
      "24074-1-0-7.wav [ 0.  1.  0.  0.  0.  0.  0.  0.  0.  0.]\n",
      "102106-3-0-0.wav [ 0.  0.  0.  1.  0.  0.  0.  0.  0.  0.]\n",
      "7383-3-1-0.wav [ 0.  0.  0.  1.  0.  0.  0.  0.  0.  0.]\n",
      "7383-3-0-1.wav [ 0.  0.  0.  1.  0.  0.  0.  0.  0.  0.]\n",
      "7383-3-0-0.wav [ 0.  0.  0.  1.  0.  0.  0.  0.  0.  0.]\n",
      "43786-3-1-0.wav [ 0.  0.  0.  1.  0.  0.  0.  0.  0.  0.]\n",
      "24074-1-0-0.wav [ 0.  1.  0.  0.  0.  0.  0.  0.  0.  0.]\n",
      "108362-2-0-9.wav [ 0.  0.  1.  0.  0.  0.  0.  0.  0.  0.]\n",
      "72579-3-0-0.wav [ 0.  0.  0.  1.  0.  0.  0.  0.  0.  0.]\n",
      "108362-2-0-7.wav [ 0.  0.  1.  0.  0.  0.  0.  0.  0.  0.]\n",
      "24074-1-0-9.wav [ 0.  1.  0.  0.  0.  0.  0.  0.  0.  0.]\n",
      "15564-2-0-2.wav [ 0.  0.  1.  0.  0.  0.  0.  0.  0.  0.]\n",
      "101415-3-0-8.wav [ 0.  0.  0.  1.  0.  0.  0.  0.  0.  0.]\n",
      "43786-3-0-0.wav [ 0.  0.  0.  1.  0.  0.  0.  0.  0.  0.]\n",
      "31840-3-0-0.wav [ 0.  0.  0.  1.  0.  0.  0.  0.  0.  0.]\n",
      "97317-2-0-5.wav [ 0.  0.  1.  0.  0.  0.  0.  0.  0.  0.]\n",
      "51022-3-7-0.wav [ 0.  0.  0.  1.  0.  0.  0.  0.  0.  0.]\n",
      "31323-3-0-1.wav [ 0.  0.  0.  1.  0.  0.  0.  0.  0.  0.]\n"
     ]
    }
   ],
   "source": [
    "fp = open('train_features.csv')\n",
    "data = [line.strip().split(',') for line in fp]\n",
    "fp.close()\n",
    "\n",
    "files = [row[0] for row in data]\n",
    "labels = [int(row[1]) for row in data] # Y\n",
    "features = [list(map(float, row[2:])) for row in data]  # X\n",
    "labels = np.array(labels)\n",
    "features = np.array(features)\n",
    "\n",
    "print('Audio Data Loading Done')\n",
    "print(\"feature. shape\",features.shape) # X\n",
    "print(\"label. shape\",labels.shape) # Y\n",
    "\n",
    "labels = one_hot_encode(labels)\n",
    "for f, l in zip(files, labels):\n",
    "    print(f, l)"
   ]
  },
  {
   "cell_type": "code",
   "execution_count": 6,
   "metadata": {},
   "outputs": [],
   "source": [
    "train_test_split = np.random.rand(len(features)) < 0.70\n",
    "train_x = features[train_test_split]\n",
    "train_y = labels[train_test_split]\n",
    "test_x = features[~train_test_split]\n",
    "test_y = labels[~train_test_split]"
   ]
  },
  {
   "cell_type": "code",
   "execution_count": 7,
   "metadata": {},
   "outputs": [
    {
     "name": "stdout",
     "output_type": "stream",
     "text": [
      "DIM 193\n"
     ]
    }
   ],
   "source": [
    "training_epochs = 5000\n",
    "n_dim = features.shape[1]\n",
    "print('DIM', n_dim)\n",
    "n_classes = 10\n",
    "sd = 1 / np.sqrt(n_dim)\n",
    "learning_rate = 0.01\n",
    "n_hidden_units_one = 300\n",
    "n_hidden_units_two = 200\n",
    "n_hidden_units_three = 100\n",
    "\n",
    "\n",
    "X = tf.placeholder(tf.float32,[None,n_dim])\n",
    "Y = tf.placeholder(tf.float32,[None,n_classes])\n",
    "\n",
    "W_1 = tf.Variable(tf.random_normal([n_dim, n_hidden_units_one], mean=0, stddev=sd), name=\"w1\")\n",
    "b_1 = tf.Variable(tf.random_normal([n_hidden_units_one], mean=0, stddev=sd), name=\"b1\")\n",
    "h_1 = tf.nn.sigmoid(tf.matmul(X, W_1) + b_1)\n",
    "\n",
    "W_2 = tf.Variable(tf.random_normal([n_hidden_units_one, n_hidden_units_two], mean=0, stddev=sd), name=\"w2\")\n",
    "b_2 = tf.Variable(tf.random_normal([n_hidden_units_two], mean=0, stddev=sd), name=\"b2\")\n",
    "h_2 = tf.nn.tanh(tf.matmul(h_1, W_2) + b_2)\n",
    "\n",
    "W_3 = tf.Variable(tf.random_normal([n_hidden_units_two, n_hidden_units_three], mean=0, stddev=sd), name=\"w3\")\n",
    "b_3 = tf.Variable(tf.random_normal([n_hidden_units_three], mean=0, stddev=sd), name=\"b3\")\n",
    "h_3 = tf.nn.sigmoid(tf.matmul(h_2, W_3) + b_3)\n",
    "\n",
    "W = tf.Variable(tf.random_normal([n_hidden_units_three, n_classes], mean=0, stddev=sd), name=\"w\")\n",
    "b = tf.Variable(tf.random_normal([n_classes], mean = 0, stddev=sd), name=\"b\")\n",
    "y_ = tf.nn.softmax(tf.matmul(h_3, W) + b)"
   ]
  },
  {
   "cell_type": "code",
   "execution_count": 8,
   "metadata": {
    "collapsed": true
   },
   "outputs": [],
   "source": [
    "init = tf.global_variables_initializer()\n",
    "\n",
    "cost_function = tf.reduce_mean(-tf.reduce_sum(Y * tf.log(y_), reduction_indices=[1])) \n",
    "optimizer = tf.train.GradientDescentOptimizer(learning_rate).minimize(cost_function)\n",
    "\n",
    "correct_prediction = tf.equal(tf.argmax(y_,1), tf.argmax(Y,1))\n",
    "accuracy = tf.reduce_mean(tf.cast(correct_prediction, tf.float32))\n",
    "\n",
    "cost_history = np.empty(shape=[1],dtype=float)\n",
    "y_true, y_pred = None, None"
   ]
  },
  {
   "cell_type": "code",
   "execution_count": null,
   "metadata": {},
   "outputs": [
    {
     "name": "stdout",
     "output_type": "stream",
     "text": [
      "[0000] 2.46953\n",
      "[0100] 0.868291\n",
      "[0200] 0.624847\n",
      "[0300] 0.416529\n",
      "[0400] 0.286009\n",
      "[0500] 0.200393\n",
      "[0600] 0.141625\n",
      "[0700] 0.102637\n",
      "[0800] 0.077395\n",
      "[0900] 0.0603799\n",
      "[1000] 0.048525\n",
      "[1100] 0.0400108\n",
      "[1200] 0.0337079\n",
      "[1300] 0.028877\n",
      "[1400] 0.0250921\n",
      "[1500] 0.0221354\n",
      "[1600] 0.0197341\n",
      "[1700] 0.0177559\n",
      "[1800] 0.0161057\n",
      "[1900] 0.0147115\n",
      "[2000] 0.013518\n",
      "[2100] 0.0124888\n",
      "[2200] 0.0115931\n",
      "[2300] 0.0108064\n",
      "[2400] 0.0101106\n",
      "[2500] 0.00949188\n",
      "[2600] 0.00893902\n",
      "[2700] 0.0084424\n",
      "[2800] 0.00799416\n",
      "[2900] 0.00758783\n",
      "[3000] 0.007218\n",
      "[3100] 0.00688011\n",
      "[3200] 0.00657039\n",
      "[3300] 0.0062855\n",
      "[3400] 0.00602271\n",
      "[3500] 0.00577959\n",
      "[3600] 0.00555409\n",
      "[3700] 0.00534442\n",
      "[3800] 0.00514901\n",
      "[3900] 0.00496648\n",
      "[4000] 0.00479567\n",
      "[4100] 0.00463548\n",
      "[4200] 0.00448499\n",
      "[4300] 0.00434339\n",
      "[4400] 0.00420993\n",
      "[4500] 0.00408396\n",
      "[4600] 0.00396485\n",
      "[4700] 0.0038521\n"
     ]
    }
   ],
   "source": [
    "with tf.Session() as sess:\n",
    "    sess.run(init)\n",
    "\n",
    "    # for loop 동안 학습 진행\n",
    "    for epoch in range(training_epochs):            \n",
    "        _,cost = sess.run([optimizer,cost_function],feed_dict={X:train_x,Y:train_y})\n",
    "        if epoch % 100 == 0:\n",
    "            print('[%04d]' % epoch, cost)\n",
    "        if cost < 0.001:\n",
    "            break\n",
    "        cost_history = np.append(cost_history,cost)\n",
    "    \n",
    "    ## 학습 결과 파라미터 저장\n",
    "    saver = tf.train.Saver()\n",
    "    save_path = saver.save(sess, \"./save.ckpt\")\n",
    "    print(\"Model saved in file: %s\" % save_path)\n",
    "\n",
    "    y_pred = sess.run(tf.argmax(y_,1),feed_dict={X: test_x})\n",
    "    y_true = sess.run(tf.argmax(test_y,1))\n",
    "    print(\"y_pred,,,\",y_pred.shape)\n",
    "    print(\"y_true,,,\",y_true.shape)\n",
    "    print(\"y_pred>>\",y_pred)\n",
    "    print(\"y_true>>\",y_true)\n",
    "    \n",
    "    "
   ]
  },
  {
   "cell_type": "code",
   "execution_count": 10,
   "metadata": {},
   "outputs": [
    {
     "data": {
      "image/png": "[encoded data removed]",
      "text/plain": [
       "<matplotlib.figure.Figure at 0x7f82301cef28>"
      ]
     },
     "metadata": {},
     "output_type": "display_data"
    }
   ],
   "source": [
    "fig = plt.figure(figsize=(10,8))\n",
    "plt.plot(cost_history)\n",
    "plt.ylabel(\"Cost\")\n",
    "plt.xlabel(\"Iterations\")\n",
    "plt.axis([0,training_epochs,0,np.max(cost_history)])\n",
    "plt.show()\n"
   ]
  },
  {
   "cell_type": "code",
   "execution_count": null,
   "metadata": {},
   "outputs": [],
   "source": []
  }
 ],
 "metadata": {
  "kernelspec": {
   "display_name": "Python 3.6",
   "language": "python",
   "name": "python36"
  },
  "language_info": {
   "codemirror_mode": {
    "name": "ipython",
    "version": 3
   },
   "file_extension": ".py",
   "mimetype": "text/x-python",
   "name": "python",
   "nbconvert_exporter": "python",
   "pygments_lexer": "ipython3",
   "version": "3.6.3"
  }
 },
 "nbformat": 4,
 "nbformat_minor": 2
}
