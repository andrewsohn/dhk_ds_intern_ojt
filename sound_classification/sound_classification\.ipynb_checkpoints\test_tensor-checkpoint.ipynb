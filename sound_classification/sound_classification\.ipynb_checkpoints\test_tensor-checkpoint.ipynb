{
 "cells": [
  {
   "cell_type": "code",
   "execution_count": 1,
   "metadata": {},
   "outputs": [
    {
     "name": "stderr",
     "output_type": "stream",
     "text": [
      "/home/nbuser/anaconda3_501/lib/python3.6/importlib/_bootstrap.py:219: RuntimeWarning: compiletime version 3.5 of module 'tensorflow.python.framework.fast_tensor_util' does not match runtime version 3.6\n",
      "  return f(*args, **kwds)\n"
     ]
    }
   ],
   "source": [
    "import glob\n",
    "import os\n",
    "import numpy as np\n",
    "import matplotlib.pyplot as plt\n",
    "import tensorflow as tf\n",
    "import sys\n",
    "\n",
    "\n",
    "def one_hot_encode(labels):\n",
    "    n_labels = len(labels)\n",
    "    n_unique_labels = 10 # len(np.unique(labels))\n",
    "    one_hot = np.zeros((n_labels,n_unique_labels))\n",
    "    one_hot[np.arange(n_labels), labels] = 1\n",
    "    return one_hot"
   ]
  },
  {
   "cell_type": "code",
   "execution_count": 2,
   "metadata": {},
   "outputs": [
    {
     "name": "stdout",
     "output_type": "stream",
     "text": [
      "Audio Data Loading Done\n",
      "feature. shape (6, 193)\n",
      "label. shape (6,)\n",
      "60591-2-0-4.wav [ 0.  0.  1.  0.  0.  0.  0.  0.  0.  0.]\n",
      "60591-2-0-7.wav [ 0.  0.  1.  0.  0.  0.  0.  0.  0.  0.]\n",
      "7389-1-2-2.wav [ 0.  1.  0.  0.  0.  0.  0.  0.  0.  0.]\n",
      "145577-1-0-0.wav [ 0.  1.  0.  0.  0.  0.  0.  0.  0.  0.]\n",
      "74723-3-0-1.wav [ 0.  0.  0.  1.  0.  0.  0.  0.  0.  0.]\n",
      "204773-3-8-0.wav [ 0.  0.  0.  1.  0.  0.  0.  0.  0.  0.]\n"
     ]
    }
   ],
   "source": [
    "fp = open('test_features.csv')\n",
    "data = [line.strip().split(',') for line in fp]\n",
    "fp.close()\n",
    "\n",
    "files = [row[0] for row in data]\n",
    "labels = [int(row[1]) for row in data] # Y\n",
    "features = [list(map(float, row[2:])) for row in data]  # X\n",
    "labels = np.array(labels)\n",
    "features = np.array(features)\n",
    "\n",
    "print('Audio Data Loading Done')\n",
    "print(\"feature. shape\",features.shape) # X\n",
    "print(\"label. shape\",labels.shape) # Y\n",
    "\n",
    "labels = one_hot_encode(labels)\n",
    "for f, l in zip(files, labels):\n",
    "    print(f, l)"
   ]
  },
  {
   "cell_type": "code",
   "execution_count": 3,
   "metadata": {},
   "outputs": [
    {
     "name": "stdout",
     "output_type": "stream",
     "text": [
      "DIM 193\n"
     ]
    }
   ],
   "source": [
    "n_dim = features.shape[1]\n",
    "print('DIM', n_dim)\n",
    "n_classes = 10\n",
    "sd = 1 / np.sqrt(n_dim)\n",
    "learning_rate = 0.01\n",
    "n_hidden_units_one = 300\n",
    "n_hidden_units_two = 200\n",
    "n_hidden_units_three = 100\n",
    "\n",
    "\n",
    "X = tf.placeholder(tf.float32,[None,n_dim])\n",
    "Y = tf.placeholder(tf.float32,[None,n_classes])\n",
    "\n",
    "W_1 = tf.Variable(tf.random_normal([n_dim, n_hidden_units_one], mean=0, stddev=sd), name=\"w1\")\n",
    "b_1 = tf.Variable(tf.random_normal([n_hidden_units_one], mean=0, stddev=sd), name=\"b1\")\n",
    "h_1 = tf.nn.sigmoid(tf.matmul(X, W_1) + b_1)\n",
    "\n",
    "W_2 = tf.Variable(tf.random_normal([n_hidden_units_one, n_hidden_units_two], mean=0, stddev=sd), name=\"w2\")\n",
    "b_2 = tf.Variable(tf.random_normal([n_hidden_units_two], mean=0, stddev=sd), name=\"b2\")\n",
    "h_2 = tf.nn.tanh(tf.matmul(h_1, W_2) + b_2)\n",
    "\n",
    "W_3 = tf.Variable(tf.random_normal([n_hidden_units_two, n_hidden_units_three], mean=0, stddev=sd), name=\"w3\")\n",
    "b_3 = tf.Variable(tf.random_normal([n_hidden_units_three], mean=0, stddev=sd), name=\"b3\")\n",
    "h_3 = tf.nn.sigmoid(tf.matmul(h_2, W_3) + b_3)\n",
    "\n",
    "W = tf.Variable(tf.random_normal([n_hidden_units_three, n_classes], mean=0, stddev=sd), name=\"w\")\n",
    "b = tf.Variable(tf.random_normal([n_classes], mean = 0, stddev=sd), name=\"b\")\n",
    "y_ = tf.nn.softmax(tf.matmul(h_3, W) + b)"
   ]
  },
  {
   "cell_type": "code",
   "execution_count": 4,
   "metadata": {
    "collapsed": true
   },
   "outputs": [],
   "source": [
    "cost_function = tf.reduce_mean(-tf.reduce_sum(Y * tf.log(y_), reduction_indices=[1]))\n",
    "optimizer = tf.train.GradientDescentOptimizer(learning_rate).minimize(cost_function)\n",
    "\n",
    "# 정답값(Y)과 NN이 예측산출한 값(y_)이 일치하는지 검사\n",
    "correct_prediction = tf.equal(tf.argmax(y_,1), tf.argmax(Y,1))\n",
    "\n",
    "# 전체 테스트 데이터 중 정답 == NN 산출값이 일치하는 비율.\n",
    "accuracy = tf.reduce_mean(tf.cast(correct_prediction, tf.float32))\n",
    "\n",
    "# 산출/예측한 값(y_)\n",
    "predict_raw = y_\n",
    "predict = tf.argmax(y_,1) #\n",
    "\n",
    "y_true, y_pred = None, None"
   ]
  },
  {
   "cell_type": "code",
   "execution_count": 6,
   "metadata": {},
   "outputs": [
    {
     "name": "stdout",
     "output_type": "stream",
     "text": [
      "INFO:tensorflow:Restoring parameters from ./save.ckpt\n",
      "['0.00', '0.00', '0.00', '0.99', '0.00', '0.00', '0.00', '0.00', '0.00', '0.00']\t--> 3 60591-2-0-4.wav 2\n",
      "['0.00', '0.01', '0.02', '0.98', '0.00', '0.00', '0.00', '0.00', '0.00', '0.00']\t--> 3 60591-2-0-7.wav 2\n",
      "['0.00', '0.77', '0.22', '0.00', '0.00', '0.00', '0.00', '0.00', '0.00', '0.00']\t--> 1 7389-1-2-2.wav 1\n",
      "['0.00', '0.42', '0.03', '0.54', '0.00', '0.00', '0.00', '0.00', '0.00', '0.00']\t--> 3 145577-1-0-0.wav 1\n",
      "['0.00', '0.00', '0.00', '1.00', '0.00', '0.00', '0.00', '0.00', '0.00', '0.00']\t--> 3 74723-3-0-1.wav 3\n",
      "['0.00', '0.00', '0.00', '1.00', '0.00', '0.00', '0.00', '0.00', '0.00', '0.00']\t--> 3 204773-3-8-0.wav 3\n"
     ]
    }
   ],
   "source": [
    "sess = tf.Session()\n",
    "saver = tf.train.Saver()\n",
    "saver.restore(sess, \"./save.ckpt\")\n",
    "\n",
    "raws, decisions = sess.run([predict_raw, predict],feed_dict={X: features})\n",
    "#print(\"\\tPredicted Raw\", raw[0])\n",
    "for raw, dec, f, label in zip(raws, decisions, files, labels):\n",
    "  print(['%.2f' % r for r in raw], end='\\t')\n",
    "  print(\"-->\", dec, f, np.argmax(label))\n",
    "    \n",
    "\n",
    "    "
   ]
  },
  {
   "cell_type": "code",
   "execution_count": null,
   "metadata": {
    "collapsed": true
   },
   "outputs": [],
   "source": []
  },
  {
   "cell_type": "code",
   "execution_count": null,
   "metadata": {
    "collapsed": true
   },
   "outputs": [],
   "source": []
  },
  {
   "cell_type": "code",
   "execution_count": null,
   "metadata": {
    "collapsed": true
   },
   "outputs": [],
   "source": []
  }
 ],
 "metadata": {
  "kernelspec": {
   "display_name": "Python 3.6",
   "language": "python",
   "name": "python36"
  },
  "language_info": {
   "codemirror_mode": {
    "name": "ipython",
    "version": 3
   },
   "file_extension": ".py",
   "mimetype": "text/x-python",
   "name": "python",
   "nbconvert_exporter": "python",
   "pygments_lexer": "ipython3",
   "version": "3.6.3"
  }
 },
 "nbformat": 4,
 "nbformat_minor": 2
}
