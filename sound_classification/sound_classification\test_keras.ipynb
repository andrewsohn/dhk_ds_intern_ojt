{
 "cells": [
  {
   "cell_type": "code",
   "execution_count": 1,
   "metadata": {},
   "outputs": [
    {
     "name": "stderr",
     "output_type": "stream",
     "text": [
      "Using TensorFlow backend.\n"
     ]
    }
   ],
   "source": [
    "import glob\n",
    "import os\n",
    "import numpy as np\n",
    "import matplotlib.pyplot as plt\n",
    "import tensorflow as tf\n",
    "import keras\n",
    "\n",
    "def one_hot_encode(labels):\n",
    "    n_labels = len(labels)\n",
    "    n_unique_labels = 10 # len(np.unique(labels))\n",
    "    one_hot = np.zeros((n_labels,n_unique_labels))\n",
    "    one_hot[np.arange(n_labels), labels] = 1\n",
    "    return one_hot"
   ]
  },
  {
   "cell_type": "code",
   "execution_count": 2,
   "metadata": {},
   "outputs": [
    {
     "name": "stdout",
     "output_type": "stream",
     "text": [
      "Audio Data Loading Done\n",
      "feature. shape (6, 193)\n",
      "label. shape (6,)\n"
     ]
    }
   ],
   "source": [
    "fp = open('test_features.csv')\n",
    "data = [line.strip().split(',') for line in fp]\n",
    "fp.close()\n",
    "\n",
    "files = [row[0] for row in data]\n",
    "labels = [int(row[1]) for row in data]\n",
    "features = [list(map(float, row[2:])) for row in data]  # X\n",
    "labels = np.array(labels)\n",
    "features = np.array(features)\n",
    "\n",
    "print('Audio Data Loading Done')\n",
    "print(\"feature. shape\",features.shape)\n",
    "print(\"label. shape\",labels.shape)"
   ]
  },
  {
   "cell_type": "code",
   "execution_count": 3,
   "metadata": {},
   "outputs": [
    {
     "name": "stdout",
     "output_type": "stream",
     "text": [
      "60591-2-0-4.wav \t [ 0.  0.  1.  0.  0.  0.  0.  0.  0.  0.]\n",
      "60591-2-0-7.wav \t [ 0.  0.  1.  0.  0.  0.  0.  0.  0.  0.]\n",
      "74723-3-0-1.wav \t [ 0.  0.  0.  1.  0.  0.  0.  0.  0.  0.]\n",
      "145577-1-0-0.wav \t [ 0.  1.  0.  0.  0.  0.  0.  0.  0.  0.]\n",
      "7389-1-2-2.wav \t [ 0.  1.  0.  0.  0.  0.  0.  0.  0.  0.]\n",
      "204773-3-8-0.wav \t [ 0.  0.  0.  1.  0.  0.  0.  0.  0.  0.]\n"
     ]
    }
   ],
   "source": [
    "labels = one_hot_encode(labels)\n",
    "for f, l in zip(files, labels):\n",
    "    print(f,'\\t', l)"
   ]
  },
  {
   "cell_type": "code",
   "execution_count": 4,
   "metadata": {},
   "outputs": [
    {
     "name": "stdout",
     "output_type": "stream",
     "text": [
      "DIM 193\n"
     ]
    }
   ],
   "source": [
    "n_dim = features.shape[1]\n",
    "print('DIM', n_dim)\n",
    "n_classes = 10\n"
   ]
  },
  {
   "cell_type": "code",
   "execution_count": 5,
   "metadata": {},
   "outputs": [],
   "source": [
    "from keras.models import Sequential\n",
    "from keras.layers import Dense\n"
   ]
  },
  {
   "cell_type": "code",
   "execution_count": 6,
   "metadata": {},
   "outputs": [],
   "source": [
    "model = keras.models.load_model('save_keras')"
   ]
  },
  {
   "cell_type": "code",
   "execution_count": 7,
   "metadata": {},
   "outputs": [],
   "source": [
    "y_pred = model.predict(features)"
   ]
  },
  {
   "cell_type": "code",
   "execution_count": 8,
   "metadata": {},
   "outputs": [
    {
     "name": "stdout",
     "output_type": "stream",
     "text": [
      "0.00 0.00 0.67 0.32 0.00 0.00 0.00 0.00 0.00 0.00 | 2 2\n",
      "0.00 0.00 0.96 0.04 0.00 0.00 0.00 0.00 0.00 0.00 | 2 2\n",
      "0.00 0.00 0.00 1.00 0.00 0.00 0.00 0.00 0.00 0.00 | 3 3\n",
      "0.00 0.98 0.00 0.02 0.00 0.00 0.00 0.00 0.00 0.00 | 1 1\n",
      "0.00 1.00 0.00 0.00 0.00 0.00 0.00 0.00 0.00 0.00 | 1 1\n",
      "0.00 0.00 0.00 1.00 0.00 0.00 0.00 0.00 0.00 0.00 | 3 3\n"
     ]
    }
   ],
   "source": [
    "for y_pr, y_real in zip(y_pred, labels):\n",
    "    print(' '.join(['%.2f' % y for y in y_pr]), '|', np.argmax(y_pr), np.argmax(y_real))"
   ]
  },
  {
   "cell_type": "code",
   "execution_count": null,
   "metadata": {},
   "outputs": [],
   "source": []
  }
 ],
 "metadata": {
  "kernelspec": {
   "display_name": "Python 3.6",
   "language": "python",
   "name": "python36"
  },
  "language_info": {
   "codemirror_mode": {
    "name": "ipython",
    "version": 3
   },
   "file_extension": ".py",
   "mimetype": "text/x-python",
   "name": "python",
   "nbconvert_exporter": "python",
   "pygments_lexer": "ipython3",
   "version": "3.6.3"
  }
 },
 "nbformat": 4,
 "nbformat_minor": 2
}
