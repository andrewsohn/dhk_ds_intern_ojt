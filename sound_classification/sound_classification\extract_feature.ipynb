{
 "cells": [
  {
   "cell_type": "code",
   "execution_count": 2,
   "metadata": {},
   "outputs": [
    {
     "name": "stdout",
     "output_type": "stream",
     "text": [
      "Collecting librosa\n",
      "  Downloading librosa-0.5.1.tar.gz (1.5MB)\n",
      "\u001b[K    100% |################################| 1.5MB 658kB/s eta 0:00:01\n",
      "\u001b[?25hCollecting audioread>=2.0.0 (from librosa)\n",
      "  Downloading audioread-2.1.5.tar.gz\n",
      "Requirement already satisfied: numpy>=1.8.0 in /home/nbuser/anaconda3_501/lib/python3.6/site-packages (from librosa)\n",
      "Requirement already satisfied: scipy>=0.13.0 in /home/nbuser/anaconda3_501/lib/python3.6/site-packages (from librosa)\n",
      "Requirement already satisfied: scikit-learn>=0.14.0 in /home/nbuser/anaconda3_501/lib/python3.6/site-packages (from librosa)\n",
      "Requirement already satisfied: joblib>=0.7.0 in /home/nbuser/anaconda3_501/lib/python3.6/site-packages (from librosa)\n",
      "Requirement already satisfied: decorator>=3.0.0 in /home/nbuser/anaconda3_501/lib/python3.6/site-packages (from librosa)\n",
      "Requirement already satisfied: six>=1.3 in /home/nbuser/anaconda3_501/lib/python3.6/site-packages (from librosa)\n",
      "Collecting resampy>=0.1.2 (from librosa)\n",
      "  Downloading resampy-0.2.0.tar.gz (322kB)\n",
      "\u001b[K    100% |################################| 327kB 1.9MB/s eta 0:00:01\n",
      "\u001b[?25hRequirement already satisfied: numba>=0.32 in /home/nbuser/anaconda3_501/lib/python3.6/site-packages (from resampy>=0.1.2->librosa)\n",
      "Requirement already satisfied: llvmlite in /home/nbuser/anaconda3_501/lib/python3.6/site-packages (from numba>=0.32->resampy>=0.1.2->librosa)\n",
      "Building wheels for collected packages: librosa, audioread, resampy\n",
      "  Running setup.py bdist_wheel for librosa ... \u001b[?25ldone\n",
      "\u001b[?25h  Stored in directory: /home/nbuser/.cache/pip/wheels/7a/bf/9f/fc279e1814da2144161848a7419cdcf923d0c03f481abe7904\n",
      "  Running setup.py bdist_wheel for audioread ... \u001b[?25ldone\n",
      "\u001b[?25h  Stored in directory: /home/nbuser/.cache/pip/wheels/47/cc/d8/e1476000d1720a72117ef5c0b1a51388b8567ebfface47ede7\n",
      "  Running setup.py bdist_wheel for resampy ... \u001b[?25ldone\n",
      "\u001b[?25h  Stored in directory: /home/nbuser/.cache/pip/wheels/c6/8e/c0/4c402972789ddf6d2d701468417de19d0cad28bd698a867e2d\n",
      "Successfully built librosa audioread resampy\n",
      "Installing collected packages: audioread, resampy, librosa\n",
      "Successfully installed audioread-2.1.5 librosa-0.5.1 resampy-0.2.0\n"
     ]
    }
   ],
   "source": [
    "! pip install librosa"
   ]
  },
  {
   "cell_type": "code",
   "execution_count": 3,
   "metadata": {},
   "outputs": [],
   "source": [
    "import glob\n",
    "import os\n",
    "import librosa\n",
    "import numpy as np\n",
    "import sys"
   ]
  },
  {
   "cell_type": "code",
   "execution_count": 4,
   "metadata": {
    "collapsed": true
   },
   "outputs": [],
   "source": [
    "def extract_feature(file_name):\n",
    "    X, sample_rate = librosa.load(file_name)\n",
    "    stft = np.abs(librosa.stft(X))\n",
    "    mfccs = np.mean(librosa.feature.mfcc(y=X, sr=sample_rate, n_mfcc=40).T,axis=0)\n",
    "    chroma = np.mean(librosa.feature.chroma_stft(S=stft, sr=sample_rate).T,axis=0)\n",
    "    mel = np.mean(librosa.feature.melspectrogram(X, sr=sample_rate).T,axis=0)\n",
    "    contrast = np.mean(librosa.feature.spectral_contrast(S=stft, sr=sample_rate).T,axis=0)\n",
    "    tonnetz = np.mean(librosa.feature.tonnetz(y=librosa.effects.harmonic(X), sr=sample_rate).T,axis=0)\n",
    "    return mfccs,chroma,mel,contrast,tonnetz"
   ]
  },
  {
   "cell_type": "code",
   "execution_count": 5,
   "metadata": {
    "collapsed": true
   },
   "outputs": [],
   "source": [
    "def parse_audio_files(parent_dir,sub_dirs,file_ext='*.wav'):\n",
    "    features, labels = np.empty((0,193)), np.empty(0)\n",
    "    files = []\n",
    "    print('==DIR', parent_dir)\n",
    "    for label, sub_dir in enumerate(sub_dirs):\n",
    "        print('====DIR', label, sub_dir)\n",
    "        for fn in glob.glob(os.path.join(parent_dir, sub_dir, file_ext)):\n",
    "            basename = os.path.basename(fn)\n",
    "            try:\n",
    "                mfccs, chroma, mel, contrast,tonnetz = extract_feature(fn)\n",
    "                ext_features = np.hstack([mfccs,chroma,mel,contrast,tonnetz])\n",
    "                features = np.vstack([features,ext_features])\n",
    "                label = basename.split('-')[1]\n",
    "                labels = np.append(labels, label)\n",
    "                files.append(basename)\n",
    "                print(fn, label, ext_features.shape)\n",
    "            except:\n",
    "                print(fn, 'SKIP')\n",
    "            \n",
    "            \n",
    "    return files, np.array(features), np.array(labels, dtype = np.int)"
   ]
  },
  {
   "cell_type": "code",
   "execution_count": 6,
   "metadata": {
    "collapsed": true
   },
   "outputs": [],
   "source": [
    "def one_hot_encode(labels):\n",
    "    num_data = len(labels)\n",
    "    num_of_classes = 10 # len(np.unique(labels))\n",
    "    one_hot = np.zeros((num_data,num_of_classes))\n",
    "    one_hot[np.arange(num_data), labels] = 1\n",
    "    return one_hot"
   ]
  },
  {
   "cell_type": "code",
   "execution_count": 7,
   "metadata": {},
   "outputs": [
    {
     "name": "stdout",
     "output_type": "stream",
     "text": [
      "==DIR audio_for_train\n",
      "====DIR 0 data\n",
      "audio_for_train/data/7383-3-1-0.wav 3 (193,)\n",
      "audio_for_train/data/24074-1-0-3.wav 1 (193,)\n",
      "audio_for_train/data/72579-3-0-2.wav 3 (193,)\n",
      "audio_for_train/data/54858-3-2-0.wav 3 (193,)\n",
      "audio_for_train/data/138031-2-0-2.wav 2 (193,)\n",
      "audio_for_train/data/94868-1-0-0.wav 1 (193,)\n",
      "audio_for_train/data/105415-2-0-1.wav 2 (193,)\n",
      "audio_for_train/data/51022-3-7-0.wav 3 (193,)\n"
     ]
    },
    {
     "name": "stderr",
     "output_type": "stream",
     "text": [
      "/home/nbuser/anaconda3_501/lib/python3.6/site-packages/librosa/util/utils.py:1632: RuntimeWarning: invalid value encountered in less\n",
      "  if np.any(X < 0) or np.any(X_ref < 0):\n",
      "/home/nbuser/anaconda3_501/lib/python3.6/site-packages/librosa/util/utils.py:1645: RuntimeWarning: invalid value encountered in less\n",
      "  bad_idx = (Z < np.finfo(dtype).tiny)\n"
     ]
    },
    {
     "name": "stdout",
     "output_type": "stream",
     "text": [
      "audio_for_train/data/87275-1-3-0.wav SKIP\n",
      "audio_for_train/data/102106-3-0-0.wav 3 (193,)\n",
      "audio_for_train/data/105415-2-0-4.wav 2 (193,)\n",
      "audio_for_train/data/87275-1-4-0.wav 1 (193,)\n",
      "audio_for_train/data/24074-1-0-10.wav 1 (193,)\n"
     ]
    },
    {
     "name": "stderr",
     "output_type": "stream",
     "text": [
      "/home/nbuser/anaconda3_501/lib/python3.6/site-packages/librosa/core/pitch.py:145: UserWarning: Trying to estimate tuning from empty frequency set.\n",
      "  warnings.warn('Trying to estimate tuning from empty frequency set.')\n"
     ]
    },
    {
     "name": "stdout",
     "output_type": "stream",
     "text": [
      "audio_for_train/data/9031-3-3-0.wav 3 (193,)\n",
      "audio_for_train/data/15564-2-0-2.wav 2 (193,)\n",
      "audio_for_train/data/105415-2-0-8.wav 2 (193,)\n",
      "audio_for_train/data/87275-1-1-0.wav SKIP\n",
      "audio_for_train/data/7383-3-0-1.wav 3 (193,)\n",
      "audio_for_train/data/65749-3-1-9.wav 3 (193,)\n",
      "audio_for_train/data/15564-2-0-1.wav 2 (193,)\n",
      "audio_for_train/data/72579-3-0-3.wav 3 (193,)\n",
      "audio_for_train/data/108362-2-0-7.wav 2 (193,)\n",
      "audio_for_train/data/24074-1-0-6.wav 1 (193,)\n",
      "audio_for_train/data/43786-3-1-0.wav 3 (193,)\n",
      "audio_for_train/data/24074-1-0-0.wav 1 (193,)\n",
      "audio_for_train/data/43786-3-0-0.wav 3 (193,)\n",
      "audio_for_train/data/31840-3-0-0.wav 3 (193,)\n",
      "audio_for_train/data/24074-1-0-9.wav 1 (193,)\n",
      "audio_for_train/data/15564-2-0-0.wav 2 (193,)\n",
      "audio_for_train/data/101415-3-0-3.wav 3 (193,)\n",
      "audio_for_train/data/24074-1-0-8.wav 1 (193,)\n",
      "audio_for_train/data/54858-3-0-0.wav 3 (193,)\n"
     ]
    },
    {
     "name": "stderr",
     "output_type": "stream",
     "text": [
      "/home/nbuser/anaconda3_501/lib/python3.6/site-packages/librosa/core/pitch.py:145: UserWarning: Trying to estimate tuning from empty frequency set.\n",
      "  warnings.warn('Trying to estimate tuning from empty frequency set.')\n"
     ]
    },
    {
     "name": "stdout",
     "output_type": "stream",
     "text": [
      "audio_for_train/data/9031-3-4-0.wav 3 (193,)\n",
      "audio_for_train/data/54858-3-1-2.wav 3 (193,)\n",
      "audio_for_train/data/31840-3-1-0.wav 3 (193,)\n",
      "audio_for_train/data/72579-3-0-4.wav 3 (193,)\n",
      "audio_for_train/data/24074-1-0-2.wav 1 (193,)\n"
     ]
    },
    {
     "name": "stderr",
     "output_type": "stream",
     "text": [
      "/home/nbuser/anaconda3_501/lib/python3.6/site-packages/librosa/util/utils.py:1632: RuntimeWarning: invalid value encountered in less\n",
      "  if np.any(X < 0) or np.any(X_ref < 0):\n",
      "/home/nbuser/anaconda3_501/lib/python3.6/site-packages/librosa/util/utils.py:1645: RuntimeWarning: invalid value encountered in less\n",
      "  bad_idx = (Z < np.finfo(dtype).tiny)\n"
     ]
    },
    {
     "name": "stdout",
     "output_type": "stream",
     "text": [
      "audio_for_train/data/87275-1-2-0.wav SKIP\n",
      "audio_for_train/data/138031-2-0-7.wav 2 (193,)\n",
      "audio_for_train/data/105415-2-0-6.wav 2 (193,)\n",
      "audio_for_train/data/108362-2-0-9.wav 2 (193,)\n",
      "audio_for_train/data/94868-1-2-0.wav 1 (193,)\n",
      "audio_for_train/data/72261-3-0-6.wav 3 (193,)\n",
      "audio_for_train/data/101415-3-0-2.wav 3 (193,)\n",
      "audio_for_train/data/24074-1-0-4.wav 1 (193,)\n",
      "audio_for_train/data/72579-3-0-0.wav 3 (193,)\n"
     ]
    },
    {
     "name": "stderr",
     "output_type": "stream",
     "text": [
      "/home/nbuser/anaconda3_501/lib/python3.6/site-packages/librosa/core/pitch.py:145: UserWarning: Trying to estimate tuning from empty frequency set.\n",
      "  warnings.warn('Trying to estimate tuning from empty frequency set.')\n"
     ]
    },
    {
     "name": "stdout",
     "output_type": "stream",
     "text": [
      "audio_for_train/data/9031-3-2-0.wav 3 (193,)\n",
      "audio_for_train/data/19026-1-0-0.wav 1 (193,)\n",
      "audio_for_train/data/87275-1-0-0.wav 1 (193,)\n",
      "audio_for_train/data/24074-1-0-1.wav 1 (193,)\n",
      "audio_for_train/data/87275-1-5-0.wav 1 (193,)\n",
      "audio_for_train/data/31323-3-0-2.wav 3 (193,)\n",
      "audio_for_train/data/9031-3-1-0.wav 3 (193,)\n",
      "audio_for_train/data/31323-3-0-1.wav 3 (193,)\n",
      "audio_for_train/data/94868-1-1-0.wav 1 (193,)\n",
      "audio_for_train/data/97317-2-0-5.wav 2 (193,)\n",
      "audio_for_train/data/24074-1-0-7.wav 1 (193,)\n",
      "audio_for_train/data/7383-3-0-0.wav 3 (193,)\n",
      "audio_for_train/data/24074-1-0-5.wav 1 (193,)\n",
      "audio_for_train/data/101415-3-0-8.wav 3 (193,)\n",
      "Audio Data Loading Done\n",
      "feature. shape (57, 193)\n",
      "label. shape (57,)\n"
     ]
    }
   ],
   "source": [
    "files, features, labels = parse_audio_files('audio_for_train', ['data'])\n",
    "\n",
    "fp = open('train_features.csv', 'w')\n",
    "for file, label, feature in zip(files, labels, features):\n",
    "    fp.write('%s,%d,%s\\n'  % (file, label, ','.join(['%f' % f for f in feature])))\n",
    "fp.close()\n",
    "\n",
    "print('Audio Data Loading Done')\n",
    "print(\"feature. shape\",features.shape)\n",
    "print(\"label. shape\",labels.shape)"
   ]
  },
  {
   "cell_type": "code",
   "execution_count": 8,
   "metadata": {},
   "outputs": [
    {
     "name": "stdout",
     "output_type": "stream",
     "text": [
      "==DIR audio_for_test\n",
      "====DIR 0 .\n",
      "audio_for_test/./60591-2-0-4.wav 2 (193,)\n",
      "audio_for_test/./60591-2-0-7.wav 2 (193,)\n",
      "audio_for_test/./74723-3-0-1.wav 3 (193,)\n",
      "audio_for_test/./145577-1-0-0.wav 1 (193,)\n",
      "audio_for_test/./7389-1-2-2.wav 1 (193,)\n",
      "audio_for_test/./204773-3-8-0.wav 3 (193,)\n"
     ]
    }
   ],
   "source": [
    "files, features, labels = parse_audio_files('audio_for_test', ['.'])\n",
    "\n",
    "fp = open('test_features.csv', 'w')\n",
    "for file, label, feature in zip(files, labels, features):\n",
    "    fp.write('%s,%d,%s\\n'  % (file, label, ','.join(['%f' % f for f in feature])))\n",
    "fp.close()"
   ]
  },
  {
   "cell_type": "code",
   "execution_count": null,
   "metadata": {
    "collapsed": true
   },
   "outputs": [],
   "source": []
  }
 ],
 "metadata": {
  "kernelspec": {
   "display_name": "Python 3.6",
   "language": "python",
   "name": "python36"
  },
  "language_info": {
   "codemirror_mode": {
    "name": "ipython",
    "version": 3
   },
   "file_extension": ".py",
   "mimetype": "text/x-python",
   "name": "python",
   "nbconvert_exporter": "python",
   "pygments_lexer": "ipython3",
   "version": "3.6.3"
  }
 },
 "nbformat": 4,
 "nbformat_minor": 2
}
