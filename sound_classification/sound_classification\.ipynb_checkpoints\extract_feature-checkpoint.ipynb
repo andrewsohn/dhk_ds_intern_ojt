{
 "cells": [
  {
   "cell_type": "code",
   "execution_count": null,
   "metadata": {
    "collapsed": true
   },
   "outputs": [],
   "source": [
    "! pip install librosa\n",
    "import glob\n",
    "import os\n",
    "import librosa\n",
    "import numpy as np\n",
    "import sys"
   ]
  },
  {
   "cell_type": "code",
   "execution_count": null,
   "metadata": {
    "collapsed": true
   },
   "outputs": [],
   "source": [
    "def extract_feature(file_name):\n",
    "    X, sample_rate = librosa.load(file_name)\n",
    "    stft = np.abs(librosa.stft(X))\n",
    "    mfccs = np.mean(librosa.feature.mfcc(y=X, sr=sample_rate, n_mfcc=40).T,axis=0)\n",
    "    chroma = np.mean(librosa.feature.chroma_stft(S=stft, sr=sample_rate).T,axis=0)\n",
    "    mel = np.mean(librosa.feature.melspectrogram(X, sr=sample_rate).T,axis=0)\n",
    "    contrast = np.mean(librosa.feature.spectral_contrast(S=stft, sr=sample_rate).T,axis=0)\n",
    "    tonnetz = np.mean(librosa.feature.tonnetz(y=librosa.effects.harmonic(X), sr=sample_rate).T,axis=0)\n",
    "    return mfccs,chroma,mel,contrast,tonnetz"
   ]
  },
  {
   "cell_type": "code",
   "execution_count": null,
   "metadata": {
    "collapsed": true
   },
   "outputs": [],
   "source": [
    "def parse_audio_files(parent_dir,sub_dirs,file_ext='*.wav'):\n",
    "    features, labels = np.empty((0,193)), np.empty(0)\n",
    "    files = []\n",
    "    print('==DIR', parent_dir)\n",
    "    for label, sub_dir in enumerate(sub_dirs):\n",
    "        print('====DIR', label, sub_dir)\n",
    "        for fn in glob.glob(os.path.join(parent_dir, sub_dir, file_ext)):\n",
    "            basename = os.path.basename(fn)\n",
    "            try:\n",
    "                mfccs, chroma, mel, contrast,tonnetz = extract_feature(fn)\n",
    "                ext_features = np.hstack([mfccs,chroma,mel,contrast,tonnetz])\n",
    "                features = np.vstack([features,ext_features])\n",
    "                label = basename.split('-')[1]\n",
    "                labels = np.append(labels, label)\n",
    "                files.append(basename)\n",
    "                print(fn, label, ext_features.shape)\n",
    "            except:\n",
    "                print(fn, 'SKIP')\n",
    "            \n",
    "            \n",
    "    return files, np.array(features), np.array(labels, dtype = np.int)"
   ]
  },
  {
   "cell_type": "code",
   "execution_count": null,
   "metadata": {
    "collapsed": true
   },
   "outputs": [],
   "source": [
    "def one_hot_encode(labels):\n",
    "    num_data = len(labels)\n",
    "    num_of_classes = 10 # len(np.unique(labels))\n",
    "    one_hot = np.zeros((num_data,num_of_classes))\n",
    "    one_hot[np.arange(num_data), labels] = 1\n",
    "    return one_hot"
   ]
  },
  {
   "cell_type": "code",
   "execution_count": null,
   "metadata": {
    "collapsed": true
   },
   "outputs": [],
   "source": [
    "files, features, labels = parse_audio_files('audio_for_train', ['data'])\n",
    "\n",
    "fp = open('train_features.csv', 'w')\n",
    "for file, label, feature in zip(files, labels, features):\n",
    "    fp.write('%s,%d,%s\\n'  % (file, label, ','.join(['%f' % f for f in feature])))\n",
    "fp.close()\n",
    "\n",
    "print('Audio Data Loading Done')\n",
    "print(\"feature. shape\",features.shape)\n",
    "print(\"label. shape\",labels.shape)"
   ]
  },
  {
   "cell_type": "code",
   "execution_count": null,
   "metadata": {
    "collapsed": true
   },
   "outputs": [],
   "source": [
    "files, features, labels = parse_audio_files('audio_for_test', ['.'])\n",
    "\n",
    "fp = open('test_features.csv', 'w')\n",
    "for file, label, feature in zip(files, labels, features):\n",
    "    fp.write('%s,%d,%s\\n'  % (file, label, ','.join(['%f' % f for f in feature])))\n",
    "fp.close()"
   ]
  }
 ],
 "metadata": {
  "kernelspec": {
   "display_name": "Python 3.6",
   "language": "python",
   "name": "python36"
  },
  "language_info": {
   "codemirror_mode": {
    "name": "ipython",
    "version": 3
   },
   "file_extension": ".py",
   "mimetype": "text/x-python",
   "name": "python",
   "nbconvert_exporter": "python",
   "pygments_lexer": "ipython3",
   "version": "3.6.3"
  }
 },
 "nbformat": 4,
 "nbformat_minor": 2
}
