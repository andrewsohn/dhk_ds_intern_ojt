{
 "cells": [
  {
   "cell_type": "code",
   "execution_count": 1,
   "metadata": {},
   "outputs": [
    {
     "name": "stdout",
     "output_type": "stream",
     "text": [
      "Collecting pandas_datareader\n",
      "  Downloading pandas_datareader-0.5.0-py2.py3-none-any.whl (74kB)\n",
      "\u001b[K    100% |################################| 81kB 2.7MB/s ta 0:00:01\n",
      "\u001b[?25hRequirement already satisfied: requests>=2.3.0 in /home/nbuser/anaconda3_501/lib/python3.6/site-packages (from pandas_datareader)\n",
      "Collecting requests-ftp (from pandas_datareader)\n",
      "  Downloading requests-ftp-0.3.1.tar.gz\n",
      "Requirement already satisfied: pandas>=0.17.0 in /home/nbuser/anaconda3_501/lib/python3.6/site-packages (from pandas_datareader)\n",
      "Collecting requests-file (from pandas_datareader)\n",
      "  Downloading requests_file-1.4.3-py2.py3-none-any.whl\n",
      "Requirement already satisfied: chardet<3.1.0,>=3.0.2 in /home/nbuser/anaconda3_501/lib/python3.6/site-packages (from requests>=2.3.0->pandas_datareader)\n",
      "Requirement already satisfied: idna<2.7,>=2.5 in /home/nbuser/anaconda3_501/lib/python3.6/site-packages (from requests>=2.3.0->pandas_datareader)\n",
      "Requirement already satisfied: urllib3<1.23,>=1.21.1 in /home/nbuser/anaconda3_501/lib/python3.6/site-packages (from requests>=2.3.0->pandas_datareader)\n",
      "Requirement already satisfied: certifi>=2017.4.17 in /home/nbuser/anaconda3_501/lib/python3.6/site-packages (from requests>=2.3.0->pandas_datareader)\n",
      "Requirement already satisfied: python-dateutil>=2 in /home/nbuser/anaconda3_501/lib/python3.6/site-packages (from pandas>=0.17.0->pandas_datareader)\n",
      "Requirement already satisfied: pytz>=2011k in /home/nbuser/anaconda3_501/lib/python3.6/site-packages (from pandas>=0.17.0->pandas_datareader)\n",
      "Requirement already satisfied: numpy>=1.7.0 in /home/nbuser/anaconda3_501/lib/python3.6/site-packages (from pandas>=0.17.0->pandas_datareader)\n",
      "Requirement already satisfied: six in /home/nbuser/anaconda3_501/lib/python3.6/site-packages (from requests-file->pandas_datareader)\n",
      "Building wheels for collected packages: requests-ftp\n",
      "  Running setup.py bdist_wheel for requests-ftp ... \u001b[?25ldone\n",
      "\u001b[?25h  Stored in directory: /home/nbuser/.cache/pip/wheels/76/fb/0d/1026eb562c34a4982dc9d39c9c582a734eefe7f0455f711deb\n",
      "Successfully built requests-ftp\n",
      "Installing collected packages: requests-ftp, requests-file, pandas-datareader\n",
      "Successfully installed pandas-datareader-0.5.0 requests-file-1.4.3 requests-ftp-0.3.1\n"
     ]
    }
   ],
   "source": [
    "! pip install pandas_datareader"
   ]
  },
  {
   "cell_type": "code",
   "execution_count": 4,
   "metadata": {
    "collapsed": true
   },
   "outputs": [],
   "source": [
    "# data scrolling parts\n",
    "import pandas as pd\n",
    "import numpy as np\n",
    "from pandas_datareader import data, wb\n",
    "import datetime\n",
    "\n",
    "JONGMOK = {\n",
    "\n",
    "}\n",
    "\n",
    "def save_one_from_yahoo(company, filename):\n",
    "  start = datetime.datetime(2010, 1, 1)\n",
    "  #end = datetime.datetime(2017, 12, 6) # 날짜 지정\n",
    "  end = datetime.datetime.today() # 오늘 날짜\n",
    "  \n",
    "  df = data.DataReader(company, \"yahoo\", start, end)\n",
    "  # df = data.get_data_yahoo(company) # DataReader() 기능과 유사.\n",
    "  for col_name in df:\n",
    "    print('COL:', col_name)\n",
    "    df[col_name].fillna(value=0, inplace=True)\n",
    "    #df[col_name] = df[col_name].astype(int)\n",
    "    df[col_name] = df[col_name].map(lambda x: '%.2f' % x)\n",
    "  \n",
    "  df.to_csv(filename, header=True, index=True) # index가 날짜임\n",
    "  print('Saved', filename)"
   ]
  },
  {
   "cell_type": "code",
   "execution_count": 8,
   "metadata": {},
   "outputs": [
    {
     "name": "stdout",
     "output_type": "stream",
     "text": [
      "COL: Open\n",
      "COL: High\n",
      "COL: Low\n",
      "COL: Close\n",
      "COL: Adj Close\n",
      "COL: Volume\n",
      "Saved samsung.csv\n",
      "COL: Open\n",
      "COL: High\n",
      "COL: Low\n",
      "COL: Close\n",
      "COL: Adj Close\n",
      "COL: Volume\n",
      "Saved amazon.csv\n",
      "COL: Open\n",
      "COL: High\n",
      "COL: Low\n",
      "COL: Close\n",
      "COL: Adj Close\n",
      "COL: Volume\n",
      "Saved apple.csv\n"
     ]
    }
   ],
   "source": [
    "if __name__ == '__main__':\n",
    "  '''\n",
    "  Yahoo Finance에서는\n",
    "  KOSPI == '^KS11'\n",
    "  Samsung Electronics Co., Ltd. (SSNLF)\n",
    "\n",
    "  Google Finance에서는\n",
    "  KOSPI = \"KRX:KOSPI\"\n",
    "  삼성전자 == \"KRX:005930\"\n",
    "  '''\n",
    "\n",
    "  #save_one_from_yahoo('^KS11', 'kospi.csv')\n",
    "  save_one_from_yahoo('SSNLF', 'samsung.csv')\n",
    "  save_one_from_yahoo('AMZN', 'amazon.csv')\n",
    "  save_one_from_yahoo('AAPL', 'apple.csv')\n",
    "\n"
   ]
  },
  {
   "cell_type": "code",
   "execution_count": null,
   "metadata": {
    "collapsed": true
   },
   "outputs": [],
   "source": []
  }
 ],
 "metadata": {
  "kernelspec": {
   "display_name": "Python 3.6",
   "language": "python",
   "name": "python36"
  },
  "language_info": {
   "codemirror_mode": {
    "name": "ipython",
    "version": 3
   },
   "file_extension": ".py",
   "mimetype": "text/x-python",
   "name": "python",
   "nbconvert_exporter": "python",
   "pygments_lexer": "ipython3",
   "version": "3.6.3"
  }
 },
 "nbformat": 4,
 "nbformat_minor": 2
}
