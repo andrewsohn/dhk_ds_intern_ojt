{
 "cells": [
  {
   "cell_type": "code",
   "execution_count": 1,
   "metadata": {},
   "outputs": [
    {
     "name": "stderr",
     "output_type": "stream",
     "text": [
      "/Users/Andrew-MB/DEV/08.PYTHON/01.WORKSPACE/slowcampus0202/env/lib/python3.5/importlib/_bootstrap.py:222: RuntimeWarning: compiletime version 3.6 of module 'tensorflow.python.framework.fast_tensor_util' does not match runtime version 3.5\n",
      "  return f(*args, **kwds)\n",
      "/Users/Andrew-MB/DEV/08.PYTHON/01.WORKSPACE/slowcampus0202/env/lib/python3.5/site-packages/h5py/__init__.py:36: FutureWarning: Conversion of the second argument of issubdtype from `float` to `np.floating` is deprecated. In future, it will be treated as `np.float64 == np.dtype(float).type`.\n",
      "  from ._conv import register_converters as _register_converters\n"
     ]
    }
   ],
   "source": [
    "import tensorflow as tf\n",
    "import numpy as np\n",
    "import random\n",
    "import matplotlib.pyplot as plt\n",
    "import math"
   ]
  },
  {
   "cell_type": "code",
   "execution_count": 2,
   "metadata": {},
   "outputs": [],
   "source": [
    "# y = w * x + b 함수\n",
    "def myfunc(x):\n",
    "  y = math.cos(x) + math.sin(x) * math.sin(x)\n",
    "  noise = random.random() * 0.1 # Noise\n",
    "  return y + y*noise"
   ]
  },
  {
   "cell_type": "code",
   "execution_count": 3,
   "metadata": {},
   "outputs": [],
   "source": [
    "# random.random() -- 0.0 ~ 1.0\n",
    "NUM_DATA = 20          # 데이터 갯수\n",
    "XVALUE = 5              # X값의 범위 (0.0 ~ 5.0)\n",
    "# type: python list\n",
    "xtrain = [random.random() * XVALUE for i in range(NUM_DATA)]\n",
    "xtrain.sort()            # sorting"
   ]
  },
  {
   "cell_type": "code",
   "execution_count": 4,
   "metadata": {},
   "outputs": [
    {
     "name": "stdout",
     "output_type": "stream",
     "text": [
      "xtrain : [0.90654028473103, 1.447614558617526, 1.5634974643745299]\n",
      "ytrain : [1.3541255592684864, 1.2065423768633563, 1.0541066248850615]\n"
     ]
    }
   ],
   "source": [
    "ytrain = [myfunc(x) for x in xtrain]\n",
    "print('xtrain :',xtrain[:3])\n",
    "print('ytrain :',ytrain[:3])"
   ]
  },
  {
   "cell_type": "code",
   "execution_count": 5,
   "metadata": {},
   "outputs": [
    {
     "data": {
      "image/png": "[encoded data removed]",
      "text/plain": [
       "<matplotlib.figure.Figure at 0x120e36b00>"
      ]
     },
     "metadata": {},
     "output_type": "display_data"
    }
   ],
   "source": [
    "# actual data 산점도\n",
    "fig, ax = plt.subplots()\n",
    "ax.scatter(xtrain, ytrain, label='actual')\n",
    "plt.show()"
   ]
  },
  {
   "cell_type": "code",
   "execution_count": 6,
   "metadata": {},
   "outputs": [
    {
     "name": "stdout",
     "output_type": "stream",
     "text": [
      "xlist.shape : (20,)\n",
      "ylist.shape : (20,)\n"
     ]
    }
   ],
   "source": [
    "# type 변환 python list -> numpy ndarray\n",
    "# type: numpy ndarray\n",
    "xtrain = np.array(xtrain)\n",
    "ytrain = np.array(ytrain)\n",
    "print('xlist.shape :',xtrain.shape)  # shape ==  (10,)\n",
    "print('ylist.shape :',ytrain.shape)  # shape ==  (10,)"
   ]
  },
  {
   "cell_type": "code",
   "execution_count": 7,
   "metadata": {},
   "outputs": [
    {
     "name": "stdout",
     "output_type": "stream",
     "text": [
      "xlist.shape : (20, 1)\n",
      "ylist.shape : (20, 1)\n"
     ]
    }
   ],
   "source": [
    "# tensor 에 맞추기 위해 reshape\n",
    "xtrain = xtrain.reshape((NUM_DATA, 1))  # shape ==  (10,1)\n",
    "ytrain = ytrain.reshape((NUM_DATA, 1))  # shape ==  (10,1)\n",
    "print('xlist.shape :', xtrain.shape)\n",
    "print('ylist.shape :', ytrain.shape)"
   ]
  },
  {
   "cell_type": "code",
   "execution_count": 8,
   "metadata": {},
   "outputs": [],
   "source": [
    "X = tf.placeholder(tf.float32, [None, 1])\n",
    "Y = tf.placeholder(tf.float32, [None, 1])\n",
    "W = tf.Variable(tf.random_normal([1,1], -1, 1), name='weight')\n",
    "B = tf.Variable(tf.random_normal([1], -1, 1), name='bias')\n",
    "Y2 = tf.matmul(X, W) + B   # [1,1]행렬 x [1,1]행렬 + [1]\n",
    "# activation 함수\n",
    "# sigmoid(), tanh()\n",
    "Y2 = tf.sigmoid(Y2)\n"
   ]
  },
  {
   "cell_type": "code",
   "execution_count": 9,
   "metadata": {},
   "outputs": [],
   "source": [
    "# 손실 함수\n",
    "cost_function = tf.reduce_mean(tf.square(Y2 - Y))\n",
    "# 옵티마이저\n",
    "# optimizer = tf.train.GradientDescentOptimizer(learning_rate=0.1)\n",
    "optimizer = tf.train.AdamOptimizer(learning_rate=0.1)\n",
    "training = optimizer.minimize(cost_function)"
   ]
  },
  {
   "cell_type": "code",
   "execution_count": 10,
   "metadata": {},
   "outputs": [],
   "source": [
    "# loss list\n",
    "history = []           # Record loss values for plot"
   ]
  },
  {
   "cell_type": "code",
   "execution_count": 11,
   "metadata": {},
   "outputs": [
    {
     "name": "stdout",
     "output_type": "stream",
     "text": [
      "[0000] LOSS 0.69483316 W [[-0.516579]] bias [-1.1170714]\n",
      "[0010] LOSS 0.66286516 W [[-0.76094484]] bias [-0.10449009]\n",
      "[0020] LOSS 0.6213215 W [[-1.1110181]] bias [0.9457137]\n",
      "[0030] LOSS 0.5794489 W [[-1.5138357]] bias [2.003914]\n",
      "[0040] LOSS 0.54581964 W [[-1.917335]] bias [3.0032144]\n",
      "[0050] LOSS 0.5222688 W [[-2.293315]] bias [3.8895724]\n",
      "[0060] LOSS 0.5064993 W [[-2.6268675]] bias [4.647733]\n",
      "[0070] LOSS 0.49582052 W [[-2.9171293]] bias [5.290355]\n",
      "[0080] LOSS 0.48832455 W [[-3.1700675]] bias [5.8397846]\n",
      "[0090] LOSS 0.48283738 W [[-3.3930929]] bias [6.3174415]\n",
      "[0100] LOSS 0.47866043 W [[-3.5926936]] bias [6.7403016]\n",
      "[0110] LOSS 0.47537392 W [[-3.7738845]] bias [7.120815]\n",
      "[0120] LOSS 0.47271758 W [[-3.9403627]] bias [7.467877]\n",
      "[0130] LOSS 0.47052383 W [[-4.0948195]] bias [7.787859]\n",
      "[0140] LOSS 0.46868044 W [[-4.2392282]] bias [8.085405]\n",
      "[0150] LOSS 0.4671093 W [[-4.3750625]] bias [8.363981]\n",
      "[0160] LOSS 0.46575436 W [[-4.5034566]] bias [8.626242]\n",
      "[0170] LOSS 0.46457434 W [[-4.6253123]] bias [8.874272]\n",
      "[0180] LOSS 0.46353787 W [[-4.741363]] bias [9.109747]\n",
      "[0190] LOSS 0.46262068 W [[-4.852218]] bias [9.334032]\n",
      "[0200] LOSS 0.4618039 W [[-4.958385]] bias [9.548264]\n",
      "[0210] LOSS 0.46107236 W [[-5.0602894]] bias [9.753397]\n",
      "[0220] LOSS 0.46041375 W [[-5.158296]] bias [9.950246]\n",
      "[0230] LOSS 0.45981818 W [[-5.252723]] bias [10.139513]\n",
      "[0240] LOSS 0.45927724 W [[-5.3438444]] bias [10.321806]\n",
      "[0250] LOSS 0.45878428 W [[-5.431902]] bias [10.497657]\n",
      "[0260] LOSS 0.4583334 W [[-5.5171113]] bias [10.667532]\n",
      "[0270] LOSS 0.4579197 W [[-5.599665]] bias [10.831851]\n",
      "[0280] LOSS 0.457539 W [[-5.679729]] bias [10.990981]\n",
      "[0290] LOSS 0.4571877 W [[-5.7574596]] bias [11.145256]\n",
      "[0300] LOSS 0.45686278 W [[-5.8329983]] bias [11.294975]\n",
      "[0310] LOSS 0.45656163 W [[-5.9064655]] bias [11.440405]\n",
      "[0320] LOSS 0.45628175 W [[-5.9779778]] bias [11.581793]\n",
      "[0330] LOSS 0.45602125 W [[-6.04764]] bias [11.719364]\n",
      "[0340] LOSS 0.45577827 W [[-6.1155467]] bias [11.853321]\n",
      "[0350] LOSS 0.4555513 W [[-6.1817865]] bias [11.983851]\n",
      "[0360] LOSS 0.4553388 W [[-6.2464414]] bias [12.111125]\n",
      "[0370] LOSS 0.45513964 W [[-6.3095846]] bias [12.235302]\n",
      "[0380] LOSS 0.45495266 W [[-6.371286]] bias [12.35653]\n",
      "[0390] LOSS 0.45477694 W [[-6.43161]] bias [12.474944]\n",
      "[0400] LOSS 0.45461148 W [[-6.4906173]] bias [12.59067]\n",
      "[0410] LOSS 0.45445555 W [[-6.548362]] bias [12.703825]\n",
      "[0420] LOSS 0.45430836 W [[-6.6048965]] bias [12.81452]\n",
      "[0430] LOSS 0.45416936 W [[-6.6602683]] bias [12.922855]\n",
      "[0440] LOSS 0.45403785 W [[-6.714528]] bias [13.028929]\n",
      "[0450] LOSS 0.4539134 W [[-6.7677174]] bias [13.13283]\n",
      "[0460] LOSS 0.45379543 W [[-6.8198733]] bias [13.234642]\n",
      "[0470] LOSS 0.45368356 W [[-6.8710356]] bias [13.334445]\n",
      "[0480] LOSS 0.45357722 W [[-6.9212384]] bias [13.432313]\n",
      "[0490] LOSS 0.45347634 W [[-6.970519]] bias [13.528317]\n"
     ]
    }
   ],
   "source": [
    "# Session 시작\n",
    "sess = tf.Session()\n",
    "sess.run(tf.global_variables_initializer())\n",
    "for i in range(500):\n",
    "  res, cost  = sess.run([training, cost_function],\n",
    "                        feed_dict={X: xtrain, Y:ytrain})\n",
    "  if i % 10 == 0:\n",
    "    y2, w, b = sess.run([Y2, W, B], feed_dict={X: xtrain, Y: ytrain})\n",
    "    print('[%04d]' % i, 'LOSS', cost, 'W', w, 'bias', b)\n",
    "\n",
    "    history.append(cost)"
   ]
  },
  {
   "cell_type": "code",
   "execution_count": 12,
   "metadata": {},
   "outputs": [],
   "source": [
    "## loss 값의 변화 그래프"
   ]
  },
  {
   "cell_type": "code",
   "execution_count": 13,
   "metadata": {},
   "outputs": [
    {
     "name": "stderr",
     "output_type": "stream",
     "text": [
      "No handles with labels found to put in legend.\n"
     ]
    },
    {
     "data": {
      "image/png": "[encoded data removed]",
      "text/plain": [
       "<matplotlib.figure.Figure at 0x120e36588>"
      ]
     },
     "metadata": {},
     "output_type": "display_data"
    }
   ],
   "source": [
    "# Plot the accuracy and cost summaries\n",
    "f, ax = plt.subplots()\n",
    "\n",
    "ax.plot(history)    # GradientDescentOptimizer\n",
    "ax.set_title('optimizer')\n",
    "\n",
    "plt.xlabel('Epochs')\n",
    "plt.ylabel('Losses')\n",
    "plt.legend()\n",
    "plt.show()"
   ]
  },
  {
   "cell_type": "markdown",
   "metadata": {},
   "source": [
    "## 학습 데이터에 대한 정확도 확인 (학습 오차 확인)"
   ]
  },
  {
   "cell_type": "code",
   "execution_count": 14,
   "metadata": {},
   "outputs": [
    {
     "name": "stdout",
     "output_type": "stream",
     "text": [
      "1.00  1.35 오차율 26.20 %\n",
      "0.97  1.21 오차율 19.65 %\n",
      "0.93  1.05 오차율 11.41 %\n",
      "0.80  0.86 오차율 7.38 %\n",
      "0.61  0.61 오차율 0.33 %\n",
      "0.55  0.58 오차율 4.50 %\n",
      "0.15  0.10 오차율 57.86 %\n",
      "0.01  -0.52 오차율 -102.78 %\n",
      "0.01  -0.68 오차율 -101.23 %\n",
      "0.00  -1.06 오차율 -100.02 %\n",
      "0.00  -1.04 오차율 -100.01 %\n",
      "0.00  -0.97 오차율 -100.01 %\n",
      "0.00  -0.75 오차율 -100.00 %\n",
      "0.00  -0.68 오차율 -100.00 %\n",
      "0.00  -0.33 오차율 -100.00 %\n",
      "0.00  -0.07 오차율 -100.00 %\n",
      "0.00  -0.03 오차율 -100.00 %\n",
      "0.00  0.97 오차율 100.00 %\n",
      "0.00  1.19 오차율 100.00 %\n",
      "0.00  1.21 오차율 100.00 %\n"
     ]
    }
   ],
   "source": [
    "y_from_nn = sess.run([Y2], feed_dict={X: xtrain})\n",
    "\n",
    "for y_nn, y_real in zip(y_from_nn[0], ytrain):\n",
    "    err = abs(y_nn[0] - y_real) / y_real * 100\n",
    "    print('%.2f  %.2f 오차율 %.2f %%' % (y_nn[0], y_real, err))\n",
    "    "
   ]
  },
  {
   "cell_type": "markdown",
   "metadata": {},
   "source": [
    "## 테스트 데이터로 해보기"
   ]
  },
  {
   "cell_type": "code",
   "execution_count": 15,
   "metadata": {},
   "outputs": [],
   "source": [
    "x_unseen = [random.random() * XVALUE for i in range(NUM_DATA)]\n",
    "x_unseen = np.array(x_unseen).reshape((NUM_DATA, 1))\n",
    "\n",
    "y_unseen = sess.run([Y2], feed_dict={X: x_unseen})"
   ]
  },
  {
   "cell_type": "code",
   "execution_count": 16,
   "metadata": {},
   "outputs": [
    {
     "data": {
      "image/png": "[encoded data removed]",
      "text/plain": [
       "<matplotlib.figure.Figure at 0x1212d6860>"
      ]
     },
     "metadata": {},
     "output_type": "display_data"
    }
   ],
   "source": [
    "fig, ax = plt.subplots()\n",
    "ax.scatter(xtrain, ytrain, label='train')\n",
    "ax.scatter(x_unseen, y_unseen, label='unseen')\n",
    "\n",
    "ax.legend()\n",
    "plt.show()"
   ]
  },
  {
   "cell_type": "code",
   "execution_count": null,
   "metadata": {},
   "outputs": [],
   "source": []
  },
  {
   "cell_type": "code",
   "execution_count": null,
   "metadata": {},
   "outputs": [],
   "source": []
  }
 ],
 "metadata": {
  "kernelspec": {
   "display_name": "Python 3",
   "language": "python",
   "name": "python3"
  },
  "language_info": {
   "codemirror_mode": {
    "name": "ipython",
    "version": 3
   },
   "file_extension": ".py",
   "mimetype": "text/x-python",
   "name": "python",
   "nbconvert_exporter": "python",
   "pygments_lexer": "ipython3",
   "version": "3.5.4"
  }
 },
 "nbformat": 4,
 "nbformat_minor": 2
}
