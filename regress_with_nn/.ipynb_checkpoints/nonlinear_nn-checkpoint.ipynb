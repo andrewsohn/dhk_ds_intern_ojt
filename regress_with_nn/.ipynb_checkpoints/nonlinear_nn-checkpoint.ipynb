{
 "cells": [
  {
   "cell_type": "code",
   "execution_count": 1,
   "metadata": {},
   "outputs": [
    {
     "name": "stderr",
     "output_type": "stream",
     "text": [
      "/Users/Andrew-MB/DEV/08.PYTHON/01.WORKSPACE/slowcampus0202/env/lib/python3.5/importlib/_bootstrap.py:222: RuntimeWarning: compiletime version 3.6 of module 'tensorflow.python.framework.fast_tensor_util' does not match runtime version 3.5\n",
      "  return f(*args, **kwds)\n",
      "/Users/Andrew-MB/DEV/08.PYTHON/01.WORKSPACE/slowcampus0202/env/lib/python3.5/site-packages/h5py/__init__.py:36: FutureWarning: Conversion of the second argument of issubdtype from `float` to `np.floating` is deprecated. In future, it will be treated as `np.float64 == np.dtype(float).type`.\n",
      "  from ._conv import register_converters as _register_converters\n"
     ]
    }
   ],
   "source": [
    "import tensorflow as tf\n",
    "import numpy as np\n",
    "import random\n",
    "import matplotlib.pyplot as plt\n",
    "import math"
   ]
  },
  {
   "cell_type": "code",
   "execution_count": 2,
   "metadata": {},
   "outputs": [],
   "source": [
    "# y = w * x + b 함수\n",
    "def myfunc(x):\n",
    "  y = math.cos(x) + math.sin(x) * math.sin(x)\n",
    "  noise = random.random() * 0.1 # Noise\n",
    "  return y + y*noise"
   ]
  },
  {
   "cell_type": "code",
   "execution_count": 19,
   "metadata": {},
   "outputs": [],
   "source": [
    "# random.random() -- 0.0 ~ 1.0\n",
    "NUM_DATA = 20          # 데이터 갯수\n",
    "XVALUE = 5              # X값의 범위 (0.0 ~ 5.0)\n",
    "# type: python list\n",
    "xtrain = [random.random() * XVALUE for i in range(NUM_DATA)]\n",
    "xtrain.sort()            # sorting"
   ]
  },
  {
   "cell_type": "code",
   "execution_count": 20,
   "metadata": {},
   "outputs": [
    {
     "name": "stdout",
     "output_type": "stream",
     "text": [
      "xtrain : [0.37451212725331695, 0.4186429084145149, 0.6176428478806156]\n",
      "ytrain : [1.0754160976228, 1.1722661553336313, 1.2076932983780626]\n"
     ]
    }
   ],
   "source": [
    "ytrain = [myfunc(x) for x in xtrain]\n",
    "print('xtrain :',xtrain[:3])\n",
    "print('ytrain :',ytrain[:3])"
   ]
  },
  {
   "cell_type": "code",
   "execution_count": 21,
   "metadata": {},
   "outputs": [
    {
     "data": {
      "image/png": "[encoded data removed]",
      "text/plain": [
       "<matplotlib.figure.Figure at 0x7f7806497fd0>"
      ]
     },
     "metadata": {},
     "output_type": "display_data"
    }
   ],
   "source": [
    "# actual data 산점도\n",
    "fig, ax = plt.subplots()\n",
    "ax.scatter(xtrain, ytrain, label='actual')\n",
    "plt.show()"
   ]
  },
  {
   "cell_type": "code",
   "execution_count": 22,
   "metadata": {},
   "outputs": [
    {
     "name": "stdout",
     "output_type": "stream",
     "text": [
      "xlist.shape : (20,)\n",
      "ylist.shape : (20,)\n"
     ]
    }
   ],
   "source": [
    "# type 변환 python list -> numpy ndarray\n",
    "# type: numpy ndarray\n",
    "xtrain = np.array(xtrain)\n",
    "ytrain = np.array(ytrain)\n",
    "print('xlist.shape :',xtrain.shape)  # shape ==  (10,)\n",
    "print('ylist.shape :',ytrain.shape)  # shape ==  (10,)"
   ]
  },
  {
   "cell_type": "code",
   "execution_count": 23,
   "metadata": {},
   "outputs": [
    {
     "name": "stdout",
     "output_type": "stream",
     "text": [
      "xlist.shape : (20, 1)\n",
      "ylist.shape : (20, 1)\n"
     ]
    }
   ],
   "source": [
    "# tensor 에 맞추기 위해 reshape\n",
    "xtrain = xtrain.reshape((NUM_DATA, 1))  # shape ==  (10,1)\n",
    "ytrain = ytrain.reshape((NUM_DATA, 1))  # shape ==  (10,1)\n",
    "print('xlist.shape :', xtrain.shape)\n",
    "print('ylist.shape :', ytrain.shape)"
   ]
  },
  {
   "cell_type": "code",
   "execution_count": 24,
   "metadata": {},
   "outputs": [],
   "source": [
    "X = tf.placeholder(tf.float32, [None, 1])\n",
    "Y = tf.placeholder(tf.float32, [None, 1])\n",
    "W = tf.Variable(tf.random_normal([1,1], -1, 1), name='weight')\n",
    "B = tf.Variable(tf.random_normal([1], -1, 1), name='bias')\n",
    "Y2 = tf.matmul(X, W) + B   # [1,1]행렬 x [1,1]행렬 + [1]\n",
    "# activation 함수\n",
    "# sigmoid(), tanh()\n",
    "Y2 = tf.tanh(Y2)\n"
   ]
  },
  {
   "cell_type": "code",
   "execution_count": 25,
   "metadata": {},
   "outputs": [],
   "source": [
    "# 손실 함수\n",
    "cost_function = tf.reduce_mean(tf.square(Y2 - Y))\n",
    "# 옵티마이저\n",
    "#optimizer = tf.train.GradientDescentOptimizer(learning_rate=0.1)\n",
    "optimizer = tf.train.AdamOptimizer(learning_rate=0.1)\n",
    "training = optimizer.minimize(cost_function)"
   ]
  },
  {
   "cell_type": "code",
   "execution_count": 26,
   "metadata": {},
   "outputs": [],
   "source": [
    "# loss list\n",
    "history = []           # Record loss values for plot"
   ]
  },
  {
   "cell_type": "code",
   "execution_count": 27,
   "metadata": {},
   "outputs": [
    {
     "name": "stdout",
     "output_type": "stream",
     "text": [
      "[0000] LOSS 2.3047 W [[ 0.4896211]] bias [-2.79978657]\n",
      "[0010] LOSS 1.78821 W [[ 0.60269153]] bias [-2.61988044]\n",
      "[0020] LOSS 1.80981 W [[ 0.67514449]] bias [-2.40990281]\n",
      "[0030] LOSS 1.767 W [[ 0.59791642]] bias [-2.27396035]\n",
      "[0040] LOSS 1.74443 W [[ 0.50857353]] bias [-2.02113056]\n",
      "[0050] LOSS 1.65604 W [[ 0.40590745]] bias [-1.5256021]\n",
      "[0060] LOSS 1.27079 W [[ 0.19693965]] bias [-0.56197983]\n",
      "[0070] LOSS 0.654036 W [[-0.19203171]] bias [ 0.7480129]\n",
      "[0080] LOSS 0.660935 W [[-0.4053961]] bias [ 1.41444314]\n",
      "[0090] LOSS 0.668601 W [[-0.4192107]] bias [ 1.43144071]\n",
      "[0100] LOSS 0.64598 W [[-0.33623418]] bias [ 1.20069385]\n",
      "[0110] LOSS 0.633867 W [[-0.25930285]] bias [ 0.95957148]\n",
      "[0120] LOSS 0.634839 W [[-0.22979893]] bias [ 0.86406547]\n",
      "[0130] LOSS 0.634184 W [[-0.24099502]] bias [ 0.89842385]\n",
      "[0140] LOSS 0.633678 W [[-0.25780812]] bias [ 0.95110869]\n",
      "[0150] LOSS 0.633749 W [[-0.26215392]] bias [ 0.96485126]\n",
      "[0160] LOSS 0.63369 W [[-0.25810665]] bias [ 0.95228559]\n",
      "[0170] LOSS 0.633678 W [[-0.25454164]] bias [ 0.9411841]\n",
      "[0180] LOSS 0.63368 W [[-0.25442031]] bias [ 0.94086987]\n",
      "[0190] LOSS 0.633676 W [[-0.25565949]] bias [ 0.94480699]\n",
      "[0200] LOSS 0.633677 W [[-0.25617549]] bias [ 0.94644982]\n",
      "[0210] LOSS 0.633676 W [[-0.25590867]] bias [ 0.94561982]\n",
      "[0220] LOSS 0.633676 W [[-0.25562808]] bias [ 0.9447425]\n",
      "[0230] LOSS 0.633676 W [[-0.25563416]] bias [ 0.94476581]\n",
      "[0240] LOSS 0.633676 W [[-0.25573635]] bias [ 0.94509065]\n",
      "[0250] LOSS 0.633676 W [[-0.25576115]] bias [ 0.94517106]\n",
      "[0260] LOSS 0.633676 W [[-0.25573006]] bias [ 0.94507468]\n",
      "[0270] LOSS 0.633676 W [[-0.2557137]] bias [ 0.94502383]\n",
      "[0280] LOSS 0.633676 W [[-0.2557213]] bias [ 0.94504797]\n",
      "[0290] LOSS 0.633676 W [[-0.2557286]] bias [ 0.94507086]\n",
      "[0300] LOSS 0.633676 W [[-0.25572717]] bias [ 0.94506603]\n",
      "[0310] LOSS 0.633676 W [[-0.25572431]] bias [ 0.94505697]\n",
      "[0320] LOSS 0.633676 W [[-0.25572449]] bias [ 0.94505745]\n",
      "[0330] LOSS 0.633676 W [[-0.25572556]] bias [ 0.94506091]\n",
      "[0340] LOSS 0.633676 W [[-0.25572559]] bias [ 0.94506097]\n",
      "[0350] LOSS 0.633676 W [[-0.25572523]] bias [ 0.94505978]\n",
      "[0360] LOSS 0.633676 W [[-0.25572518]] bias [ 0.94505972]\n",
      "[0370] LOSS 0.633676 W [[-0.25572523]] bias [ 0.94506013]\n",
      "[0380] LOSS 0.633676 W [[-0.25572526]] bias [ 0.94506013]\n",
      "[0390] LOSS 0.633676 W [[-0.25572529]] bias [ 0.94506001]\n",
      "[0400] LOSS 0.633676 W [[-0.25572526]] bias [ 0.94506001]\n",
      "[0410] LOSS 0.633676 W [[-0.25572526]] bias [ 0.94506001]\n",
      "[0420] LOSS 0.633676 W [[-0.25572529]] bias [ 0.94506001]\n",
      "[0430] LOSS 0.633676 W [[-0.25572526]] bias [ 0.94506007]\n",
      "[0440] LOSS 0.633676 W [[-0.25572529]] bias [ 0.94506007]\n",
      "[0450] LOSS 0.633676 W [[-0.25572529]] bias [ 0.94506001]\n",
      "[0460] LOSS 0.633676 W [[-0.25572526]] bias [ 0.94506001]\n",
      "[0470] LOSS 0.633676 W [[-0.25572529]] bias [ 0.94506001]\n",
      "[0480] LOSS 0.633676 W [[-0.25572526]] bias [ 0.94506007]\n",
      "[0490] LOSS 0.633676 W [[-0.25572526]] bias [ 0.94506007]\n"
     ]
    }
   ],
   "source": [
    "# Session 시작\n",
    "sess = tf.Session()\n",
    "sess.run(tf.global_variables_initializer())\n",
    "for i in range(500):\n",
    "  res, cost  = sess.run([training, cost_function],\n",
    "                        feed_dict={X: xtrain, Y:ytrain})\n",
    "  if i % 10 == 0:\n",
    "    y2, w, b = sess.run([Y2, W, B], feed_dict={X: xtrain, Y: ytrain})\n",
    "    print('[%04d]' % i, 'LOSS', cost, 'W', w, 'bias', b)\n",
    "\n",
    "    history.append(cost)"
   ]
  },
  {
   "cell_type": "code",
   "execution_count": 28,
   "metadata": {},
   "outputs": [],
   "source": [
    "## loss 값의 변화 그래프"
   ]
  },
  {
   "cell_type": "code",
   "execution_count": 29,
   "metadata": {},
   "outputs": [
    {
     "name": "stderr",
     "output_type": "stream",
     "text": [
      "No handles with labels found to put in legend.\n"
     ]
    },
    {
     "data": {
      "image/png": "[encoded data removed]",
      "text/plain": [
       "<matplotlib.figure.Figure at 0x7f7806133e48>"
      ]
     },
     "metadata": {},
     "output_type": "display_data"
    }
   ],
   "source": [
    "# Plot the accuracy and cost summaries\n",
    "f, ax = plt.subplots()\n",
    "\n",
    "ax.plot(history)    # GradientDescentOptimizer\n",
    "ax.set_title('optimizer')\n",
    "\n",
    "plt.xlabel('Epochs')\n",
    "plt.ylabel('Losses')\n",
    "plt.legend()\n",
    "plt.show()"
   ]
  },
  {
   "cell_type": "markdown",
   "metadata": {},
   "source": [
    "## 학습 데이터에 대한 정확도 확인 (학습 오차 확인)"
   ]
  },
  {
   "cell_type": "code",
   "execution_count": 30,
   "metadata": {},
   "outputs": [
    {
     "name": "stdout",
     "output_type": "stream",
     "text": [
      "0.69  1.08 오차율 35.77 %\n",
      "0.68  1.17 오차율 41.59 %\n",
      "0.66  1.21 오차율 45.62 %\n",
      "0.62  1.29 오차율 51.88 %\n",
      "0.60  1.36 오차율 55.62 %\n",
      "0.60  1.27 오차율 52.47 %\n",
      "0.51  1.12 오차율 54.39 %\n",
      "0.35  -0.06 오차율 -651.92 %\n",
      "0.27  -0.63 오차율 -143.36 %\n",
      "0.26  -0.73 오차율 -134.95 %\n",
      "0.15  -1.04 오차율 -114.19 %\n",
      "0.10  -0.98 오차율 -109.81 %\n",
      "0.10  -0.96 오차율 -109.89 %\n",
      "0.03  -0.73 오차율 -103.70 %\n",
      "-0.07  -0.11 오차율 -36.12 %\n",
      "-0.12  0.21 오차율 156.76 %\n",
      "-0.14  0.33 오차율 140.60 %\n",
      "-0.16  0.49 오차율 131.96 %\n",
      "-0.19  0.67 오차율 128.07 %\n",
      "-0.31  1.26 오차율 124.79 %\n"
     ]
    }
   ],
   "source": [
    "y_from_nn = sess.run([Y2], feed_dict={X: xtrain})\n",
    "\n",
    "for y_nn, y_real in zip(y_from_nn[0], ytrain):\n",
    "    err = abs(y_nn[0] - y_real) / y_real * 100\n",
    "    print('%.2f  %.2f 오차율 %.2f %%' % (y_nn[0], y_real, err))\n",
    "    "
   ]
  },
  {
   "cell_type": "markdown",
   "metadata": {},
   "source": [
    "## 테스트 데이터로 해보기"
   ]
  },
  {
   "cell_type": "code",
   "execution_count": 31,
   "metadata": {},
   "outputs": [],
   "source": [
    "x_unseen = [random.random() * XVALUE for i in range(NUM_DATA)]\n",
    "x_unseen = np.array(x_unseen).reshape((NUM_DATA, 1))\n",
    "\n",
    "y_unseen = sess.run([Y2], feed_dict={X: x_unseen})"
   ]
  },
  {
   "cell_type": "code",
   "execution_count": 32,
   "metadata": {},
   "outputs": [
    {
     "data": {
      "image/png": "[encoded data removed]",
      "text/plain": [
       "<matplotlib.figure.Figure at 0x7f7806497be0>"
      ]
     },
     "metadata": {},
     "output_type": "display_data"
    }
   ],
   "source": [
    "fig, ax = plt.subplots()\n",
    "ax.scatter(xtrain, ytrain, label='train')\n",
    "ax.scatter(x_unseen, y_unseen, label='unseen')\n",
    "\n",
    "ax.legend()\n",
    "plt.show()"
   ]
  },
  {
   "cell_type": "code",
   "execution_count": null,
   "metadata": {
    "collapsed": true
   },
   "outputs": [],
   "source": []
  },
  {
   "cell_type": "code",
   "execution_count": null,
   "metadata": {
    "collapsed": true
   },
   "outputs": [],
   "source": []
  }
 ],
 "metadata": {
  "kernelspec": {
   "display_name": "Python 3",
   "language": "python",
   "name": "python3"
  },
  "language_info": {
   "codemirror_mode": {
    "name": "ipython",
    "version": 3
   },
   "file_extension": ".py",
   "mimetype": "text/x-python",
   "name": "python",
   "nbconvert_exporter": "python",
   "pygments_lexer": "ipython3",
   "version": "3.5.4"
  }
 },
 "nbformat": 4,
 "nbformat_minor": 2
}
