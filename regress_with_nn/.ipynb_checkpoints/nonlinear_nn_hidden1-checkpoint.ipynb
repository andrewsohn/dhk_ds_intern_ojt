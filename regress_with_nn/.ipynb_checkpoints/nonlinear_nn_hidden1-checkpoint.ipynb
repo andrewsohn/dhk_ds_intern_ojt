{
 "cells": [
  {
   "cell_type": "code",
   "execution_count": 1,
   "metadata": {},
   "outputs": [
    {
     "name": "stderr",
     "output_type": "stream",
     "text": [
      "/Users/Andrew-MB/DEV/08.PYTHON/01.WORKSPACE/slowcampus0202/env/lib/python3.5/importlib/_bootstrap.py:222: RuntimeWarning: compiletime version 3.6 of module 'tensorflow.python.framework.fast_tensor_util' does not match runtime version 3.5\n",
      "  return f(*args, **kwds)\n",
      "/Users/Andrew-MB/DEV/08.PYTHON/01.WORKSPACE/slowcampus0202/env/lib/python3.5/site-packages/h5py/__init__.py:36: FutureWarning: Conversion of the second argument of issubdtype from `float` to `np.floating` is deprecated. In future, it will be treated as `np.float64 == np.dtype(float).type`.\n",
      "  from ._conv import register_converters as _register_converters\n"
     ]
    }
   ],
   "source": [
    "import tensorflow as tf\n",
    "import numpy as np\n",
    "import random\n",
    "import matplotlib.pyplot as plt\n",
    "import math"
   ]
  },
  {
   "cell_type": "code",
   "execution_count": 2,
   "metadata": {},
   "outputs": [],
   "source": [
    "# y = w * x + b 함수\n",
    "def myfunc(x):\n",
    "  y = math.cos(x) + math.sin(x) * math.sin(x)\n",
    "  noise = random.random() * 0.1 # Noise\n",
    "  return y + y*noise"
   ]
  },
  {
   "cell_type": "code",
   "execution_count": 3,
   "metadata": {},
   "outputs": [],
   "source": [
    "# random.random() -- 0.0 ~ 1.0\n",
    "NUM_DATA = 100          # 데이터 갯수\n",
    "XVALUE = 5              # X값의 범위 (0.0 ~ 5.0)\n",
    "# type: python list\n",
    "xtrain = [random.random() * XVALUE for i in range(NUM_DATA)]\n",
    "xtrain.sort()            # sorting"
   ]
  },
  {
   "cell_type": "code",
   "execution_count": 4,
   "metadata": {},
   "outputs": [
    {
     "name": "stdout",
     "output_type": "stream",
     "text": [
      "xtrain : [0.027476104154656733, 0.029140128201569082, 0.11534982438998143]\n",
      "ytrain : [1.0167583864995855, 1.0967639000330818, 1.0132224857222039]\n"
     ]
    }
   ],
   "source": [
    "ytrain = [myfunc(x) for x in xtrain]\n",
    "print('xtrain :',xtrain[:3])\n",
    "print('ytrain :',ytrain[:3])"
   ]
  },
  {
   "cell_type": "code",
   "execution_count": 5,
   "metadata": {},
   "outputs": [
    {
     "data": {
      "image/png": "[encoded data removed]",
      "text/plain": [
       "<matplotlib.figure.Figure at 0x120debb70>"
      ]
     },
     "metadata": {},
     "output_type": "display_data"
    }
   ],
   "source": [
    "# actual data 산점도\n",
    "fig, ax = plt.subplots()\n",
    "ax.scatter(xtrain, ytrain, label='actual')\n",
    "plt.show()"
   ]
  },
  {
   "cell_type": "code",
   "execution_count": 6,
   "metadata": {},
   "outputs": [
    {
     "name": "stdout",
     "output_type": "stream",
     "text": [
      "xlist.shape : (100,)\n",
      "ylist.shape : (100,)\n"
     ]
    }
   ],
   "source": [
    "# type 변환 python list -> numpy ndarray\n",
    "# type: numpy ndarray\n",
    "xtrain = np.array(xtrain)\n",
    "ytrain = np.array(ytrain)\n",
    "print('xlist.shape :',xtrain.shape)  # shape ==  (10,)\n",
    "print('ylist.shape :',ytrain.shape)  # shape ==  (10,)"
   ]
  },
  {
   "cell_type": "code",
   "execution_count": 7,
   "metadata": {},
   "outputs": [
    {
     "name": "stdout",
     "output_type": "stream",
     "text": [
      "xlist.shape : (100, 1)\n",
      "ylist.shape : (100, 1)\n"
     ]
    }
   ],
   "source": [
    "# tensor 에 맞추기 위해 reshape\n",
    "xtrain = xtrain.reshape((NUM_DATA, 1))  # shape ==  (10,1)\n",
    "ytrain = ytrain.reshape((NUM_DATA, 1))  # shape ==  (10,1)\n",
    "print('xlist.shape :', xtrain.shape)\n",
    "print('ylist.shape :', ytrain.shape)"
   ]
  },
  {
   "cell_type": "code",
   "execution_count": 8,
   "metadata": {},
   "outputs": [],
   "source": [
    "X = tf.placeholder(tf.float32, [None, 1])\n",
    "Y = tf.placeholder(tf.float32, [None, 1])\n",
    "\n",
    "W = tf.Variable(tf.random_normal([1,2], -1, 1), name='weight')\n",
    "B = tf.Variable(tf.random_normal([2], -1, 1), name='bias')\n",
    "H1 = tf.nn.sigmoid(tf.matmul(X, W) + B)\n",
    "\n",
    "W2 = tf.Variable(tf.random_normal([2,1], -1, 1), name='weight1')\n",
    "B2 = tf.Variable(tf.random_normal([1], -1, 1), name='bias1')\n",
    "Y2 = (tf.matmul(H1, W2) + B2)   # [1,1]행렬 x [1,1]행렬 + [1]\n",
    "\n"
   ]
  },
  {
   "cell_type": "code",
   "execution_count": 9,
   "metadata": {},
   "outputs": [],
   "source": [
    "# 손실 함수\n",
    "cost_function = tf.reduce_mean(tf.square(Y2 - Y))\n",
    "# 옵티마이저\n",
    "#optimizer = tf.train.GradientDescentOptimizer(learning_rate=0.1)\n",
    "optimizer = tf.train.AdamOptimizer(learning_rate=0.2)\n",
    "training = optimizer.minimize(cost_function)"
   ]
  },
  {
   "cell_type": "code",
   "execution_count": 10,
   "metadata": {},
   "outputs": [],
   "source": [
    "# loss list\n",
    "history = []           # Record loss values for plot"
   ]
  },
  {
   "cell_type": "code",
   "execution_count": 11,
   "metadata": {},
   "outputs": [
    {
     "name": "stdout",
     "output_type": "stream",
     "text": [
      "[0000] LOSS 2.572345\n",
      "[0050] LOSS 0.30842328\n",
      "[0100] LOSS 0.26743007\n",
      "[0150] LOSS 0.26004997\n",
      "[0200] LOSS 0.2564768\n",
      "[0250] LOSS 0.254545\n",
      "[0300] LOSS 0.25341645\n",
      "[0350] LOSS 0.25270882\n",
      "[0400] LOSS 0.25220707\n",
      "[0450] LOSS 0.2514702\n",
      "[0500] LOSS 0.19047071\n",
      "[0550] LOSS 0.027360415\n",
      "[0600] LOSS 0.009899396\n",
      "[0650] LOSS 0.004232459\n",
      "[0700] LOSS 0.002403757\n",
      "[0750] LOSS 0.0019495287\n",
      "[0800] LOSS 0.0019609067\n",
      "[0850] LOSS 0.0017417014\n",
      "[0900] LOSS 0.0016069456\n",
      "[0950] LOSS 0.00149643\n",
      "[1000] LOSS 0.0014040181\n",
      "[1050] LOSS 0.0041124667\n",
      "[1100] LOSS 0.0013961712\n",
      "[1150] LOSS 0.0012973184\n",
      "[1200] LOSS 0.0012341834\n",
      "[1250] LOSS 0.0011795196\n",
      "[1300] LOSS 0.015954498\n",
      "[1350] LOSS 0.0013173834\n",
      "[1400] LOSS 0.001164192\n",
      "[1450] LOSS 0.0011103353\n",
      "[1500] LOSS 0.0010638579\n",
      "[1550] LOSS 0.0010217256\n",
      "[1600] LOSS 0.014654968\n",
      "[1650] LOSS 0.0011325778\n",
      "[1700] LOSS 0.0010105676\n",
      "[1750] LOSS 0.000952015\n",
      "[1800] LOSS 0.0008956827\n",
      "[1850] LOSS 0.00083909737\n",
      "[1900] LOSS 0.0007840184\n",
      "[1950] LOSS 0.000971751\n",
      "[2000] LOSS 0.0007575476\n",
      "[2050] LOSS 0.0007101573\n",
      "[2100] LOSS 0.00068807026\n",
      "[2150] LOSS 0.0006726152\n",
      "[2200] LOSS 0.00066134805\n",
      "[2250] LOSS 0.0006533863\n",
      "[2300] LOSS 0.00093686156\n",
      "[2350] LOSS 0.00067560753\n",
      "[2400] LOSS 0.0006631733\n",
      "[2450] LOSS 0.00065473514\n",
      "[2500] LOSS 0.00064753334\n",
      "[2550] LOSS 0.0006411667\n",
      "[2600] LOSS 0.0006354449\n",
      "[2650] LOSS 0.0018815381\n",
      "[2700] LOSS 0.00068756635\n",
      "[2750] LOSS 0.00065064296\n",
      "[2800] LOSS 0.0006434508\n",
      "[2850] LOSS 0.0006371535\n",
      "[2900] LOSS 0.000631509\n",
      "[2950] LOSS 0.00062641845\n"
     ]
    }
   ],
   "source": [
    "# Session 시작\n",
    "sess = tf.Session()\n",
    "sess.run(tf.global_variables_initializer())\n",
    "for i in range(3000):\n",
    "  res, cost  = sess.run([training, cost_function],\n",
    "                        feed_dict={X: xtrain, Y:ytrain})\n",
    "  if i % 50 == 0:\n",
    "    y2, w, b = sess.run([Y2, W, B], feed_dict={X: xtrain, Y: ytrain})\n",
    "    #print('[%04d]' % i, 'LOSS', cost, 'W', w, 'bias', b)\n",
    "    print('[%04d]' % i, 'LOSS', cost)\n",
    "\n",
    "    history.append(cost)"
   ]
  },
  {
   "cell_type": "code",
   "execution_count": 12,
   "metadata": {},
   "outputs": [],
   "source": [
    "## loss 값의 변화 그래프"
   ]
  },
  {
   "cell_type": "code",
   "execution_count": 13,
   "metadata": {},
   "outputs": [
    {
     "name": "stderr",
     "output_type": "stream",
     "text": [
      "No handles with labels found to put in legend.\n"
     ]
    },
    {
     "data": {
      "image/png": "[encoded data removed]",
      "text/plain": [
       "<matplotlib.figure.Figure at 0x120e15128>"
      ]
     },
     "metadata": {},
     "output_type": "display_data"
    }
   ],
   "source": [
    "# Plot the accuracy and cost summaries\n",
    "f, ax = plt.subplots()\n",
    "\n",
    "ax.plot(history)    # GradientDescentOptimizer\n",
    "ax.set_title('optimizer')\n",
    "\n",
    "plt.xlabel('Epochs')\n",
    "plt.ylabel('Losses')\n",
    "plt.legend()\n",
    "plt.show()"
   ]
  },
  {
   "cell_type": "markdown",
   "metadata": {},
   "source": [
    "## 학습 데이터에 대한 정확도 확인 (학습 오차 확인)"
   ]
  },
  {
   "cell_type": "code",
   "execution_count": 14,
   "metadata": {},
   "outputs": [
    {
     "name": "stdout",
     "output_type": "stream",
     "text": [
      "1.07  1.02 오차율 5.12 %\n",
      "1.07  1.10 오차율 2.56 %\n",
      "1.07  1.01 오차율 5.55 %\n",
      "1.09  1.09 오차율 0.34 %\n",
      "1.11  1.05 오차율 4.83 %\n",
      "1.12  1.12 오차율 0.33 %\n",
      "1.13  1.15 오차율 2.43 %\n",
      "1.13  1.15 오차율 1.57 %\n",
      "1.17  1.12 오차율 4.55 %\n",
      "1.17  1.17 오차율 0.50 %\n",
      "1.19  1.19 오차율 0.18 %\n",
      "1.24  1.23 오차율 0.91 %\n",
      "1.27  1.22 오차율 4.56 %\n",
      "1.27  1.27 오차율 0.42 %\n",
      "1.29  1.20 오차율 7.27 %\n",
      "1.33  1.31 오차율 1.45 %\n",
      "1.33  1.31 오차율 0.96 %\n",
      "1.33  1.34 오차율 0.65 %\n",
      "1.33  1.31 오차율 1.02 %\n",
      "1.32  1.25 오차율 5.48 %\n",
      "1.32  1.36 오차율 3.40 %\n",
      "1.32  1.34 오차율 1.46 %\n",
      "1.31  1.28 오차율 2.43 %\n",
      "1.31  1.30 오차율 0.83 %\n",
      "1.31  1.30 오차율 0.65 %\n",
      "1.31  1.26 오차율 3.82 %\n",
      "1.28  1.26 오차율 1.44 %\n",
      "1.28  1.27 오차율 0.67 %\n",
      "1.25  1.19 오차율 4.48 %\n",
      "1.24  1.28 오차율 3.46 %\n",
      "1.23  1.24 오차율 0.39 %\n",
      "1.22  1.23 오차율 1.21 %\n",
      "1.20  1.22 오차율 1.31 %\n",
      "1.20  1.18 오차율 1.13 %\n",
      "1.17  1.12 오차율 4.34 %\n",
      "1.16  1.19 오차율 2.27 %\n",
      "0.97  0.93 오차율 4.16 %\n",
      "0.95  0.95 오차율 0.93 %\n",
      "0.91  0.90 오차율 0.59 %\n",
      "0.88  0.87 오차율 0.95 %\n",
      "0.84  0.78 오차율 7.59 %\n",
      "0.83  0.83 오차율 0.48 %\n",
      "0.83  0.80 오차율 3.38 %\n",
      "0.65  0.61 오차율 6.39 %\n",
      "0.61  0.57 오차율 8.39 %\n",
      "0.57  0.52 오차율 9.29 %\n",
      "0.50  0.49 오차율 2.88 %\n",
      "0.48  0.45 오차율 7.69 %\n",
      "0.47  0.43 오차율 8.74 %\n",
      "0.43  0.42 오차율 3.46 %\n",
      "0.17  0.14 오차율 18.11 %\n",
      "0.15  0.11 오차율 29.64 %\n",
      "-0.21  -0.23 오차율 -11.35 %\n",
      "-0.23  -0.25 오차율 -7.03 %\n",
      "-0.47  -0.47 오차율 -0.38 %\n",
      "-0.48  -0.49 오차율 -1.84 %\n",
      "-0.52  -0.54 오차율 -4.47 %\n",
      "-0.54  -0.55 오차율 -0.50 %\n",
      "-0.59  -0.58 오차율 -0.66 %\n",
      "-0.61  -0.63 오차율 -2.89 %\n",
      "-0.64  -0.67 오차율 -4.24 %\n",
      "-0.72  -0.73 오차율 -1.48 %\n",
      "-0.73  -0.75 오차율 -2.92 %\n",
      "-0.80  -0.79 오차율 -1.33 %\n",
      "-0.81  -0.83 오차율 -3.23 %\n",
      "-0.83  -0.84 오차율 -0.30 %\n",
      "-0.83  -0.88 오차율 -5.44 %\n",
      "-0.87  -0.90 오차율 -3.06 %\n",
      "-0.94  -0.97 오차율 -3.39 %\n",
      "-0.94  -1.00 오차율 -5.47 %\n",
      "-0.96  -0.95 오차율 -1.51 %\n",
      "-0.97  -1.00 오차율 -2.66 %\n",
      "-0.99  -1.04 오차율 -4.78 %\n",
      "-1.00  -0.98 오차율 -1.82 %\n",
      "-1.02  -1.03 오차율 -0.98 %\n",
      "-1.02  -1.08 오차율 -5.20 %\n",
      "-1.01  -1.09 오차율 -7.05 %\n",
      "-0.91  -0.90 오차율 -0.73 %\n",
      "-0.80  -0.81 오차율 -1.38 %\n",
      "-0.76  -0.78 오차율 -2.09 %\n",
      "-0.44  -0.49 오차율 -9.24 %\n",
      "-0.30  -0.33 오차율 -9.66 %\n",
      "-0.21  -0.23 오차율 -6.83 %\n",
      "-0.04  -0.06 오차율 -26.26 %\n",
      "0.06  0.05 오차율 28.10 %\n",
      "0.08  0.07 오차율 23.17 %\n",
      "0.23  0.21 오차율 8.92 %\n",
      "0.26  0.24 오차율 7.39 %\n",
      "0.40  0.38 오차율 7.62 %\n",
      "0.49  0.46 오차율 6.47 %\n",
      "0.70  0.71 오차율 0.54 %\n",
      "0.75  0.76 오차율 0.77 %\n",
      "0.83  0.81 오차율 2.45 %\n",
      "0.87  0.83 오차율 4.27 %\n",
      "0.87  0.87 오차율 0.14 %\n",
      "0.87  0.85 오차율 2.22 %\n",
      "0.96  0.94 오차율 2.13 %\n",
      "1.05  1.01 오차율 4.00 %\n",
      "1.13  1.13 오차율 0.09 %\n",
      "1.27  1.25 오차율 1.88 %\n"
     ]
    }
   ],
   "source": [
    "y_from_nn = sess.run([Y2], feed_dict={X: xtrain})\n",
    "\n",
    "for y_nn, y_real in zip(y_from_nn[0], ytrain):\n",
    "    err = abs(y_nn[0] - y_real) / y_real * 100\n",
    "    print('%.2f  %.2f 오차율 %.2f %%' % (y_nn[0], y_real, err))\n",
    "    "
   ]
  },
  {
   "cell_type": "markdown",
   "metadata": {},
   "source": [
    "## 테스트 데이터로 해보기"
   ]
  },
  {
   "cell_type": "code",
   "execution_count": 15,
   "metadata": {},
   "outputs": [],
   "source": [
    "x_unseen = [random.random() * XVALUE for i in range(NUM_DATA)]\n",
    "x_unseen = np.array(x_unseen).reshape((NUM_DATA, 1))\n",
    "\n",
    "y_unseen = sess.run([Y2], feed_dict={X: x_unseen})"
   ]
  },
  {
   "cell_type": "code",
   "execution_count": 16,
   "metadata": {},
   "outputs": [
    {
     "data": {
      "image/png": "[encoded data removed]",
      "text/plain": [
       "<matplotlib.figure.Figure at 0x1212ae2e8>"
      ]
     },
     "metadata": {},
     "output_type": "display_data"
    }
   ],
   "source": [
    "fig, ax = plt.subplots()\n",
    "ax.scatter(xtrain, ytrain, label='train')\n",
    "ax.scatter(x_unseen, y_unseen, label='unseen')\n",
    "\n",
    "ax.legend()\n",
    "plt.show()"
   ]
  },
  {
   "cell_type": "code",
   "execution_count": null,
   "metadata": {},
   "outputs": [],
   "source": []
  },
  {
   "cell_type": "code",
   "execution_count": null,
   "metadata": {},
   "outputs": [],
   "source": []
  }
 ],
 "metadata": {
  "kernelspec": {
   "display_name": "Python 3",
   "language": "python",
   "name": "python3"
  },
  "language_info": {
   "codemirror_mode": {
    "name": "ipython",
    "version": 3
   },
   "file_extension": ".py",
   "mimetype": "text/x-python",
   "name": "python",
   "nbconvert_exporter": "python",
   "pygments_lexer": "ipython3",
   "version": "3.5.4"
  }
 },
 "nbformat": 4,
 "nbformat_minor": 2
}
