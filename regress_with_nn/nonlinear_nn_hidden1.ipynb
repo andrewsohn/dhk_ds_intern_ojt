{
 "cells": [
  {
   "cell_type": "code",
   "execution_count": 1,
   "metadata": {},
   "outputs": [
    {
     "name": "stderr",
     "output_type": "stream",
     "text": [
      "/Users/Andrew-MB/DEV/08.PYTHON/01.WORKSPACE/slowcampus0202/env/lib/python3.5/importlib/_bootstrap.py:222: RuntimeWarning: compiletime version 3.6 of module 'tensorflow.python.framework.fast_tensor_util' does not match runtime version 3.5\n",
      "  return f(*args, **kwds)\n",
      "/Users/Andrew-MB/DEV/08.PYTHON/01.WORKSPACE/slowcampus0202/env/lib/python3.5/site-packages/h5py/__init__.py:36: FutureWarning: Conversion of the second argument of issubdtype from `float` to `np.floating` is deprecated. In future, it will be treated as `np.float64 == np.dtype(float).type`.\n",
      "  from ._conv import register_converters as _register_converters\n"
     ]
    }
   ],
   "source": [
    "import tensorflow as tf\n",
    "import numpy as np\n",
    "import random\n",
    "import matplotlib.pyplot as plt\n",
    "import math"
   ]
  },
  {
   "cell_type": "code",
   "execution_count": 2,
   "metadata": {},
   "outputs": [],
   "source": [
    "# y = w * x + b 함수\n",
    "def myfunc(x):\n",
    "  y = math.cos(x) + math.sin(x) * math.sin(x)\n",
    "  noise = random.random() * 0.1 # Noise\n",
    "  return y + y*noise"
   ]
  },
  {
   "cell_type": "code",
   "execution_count": 3,
   "metadata": {},
   "outputs": [],
   "source": [
    "# random.random() -- 0.0 ~ 1.0\n",
    "NUM_DATA = 100          # 데이터 갯수\n",
    "XVALUE = 5              # X값의 범위 (0.0 ~ 5.0)\n",
    "# type: python list\n",
    "xtrain = [random.random() * XVALUE for i in range(NUM_DATA)]\n",
    "xtrain.sort()            # sorting"
   ]
  },
  {
   "cell_type": "code",
   "execution_count": 4,
   "metadata": {},
   "outputs": [
    {
     "name": "stdout",
     "output_type": "stream",
     "text": [
      "xtrain : [0.02456481883757522, 0.10338984820592478, 0.11612865207525025]\n",
      "ytrain : [1.0264748221972768, 1.0844083308482115, 1.1006671815457285]\n"
     ]
    }
   ],
   "source": [
    "ytrain = [myfunc(x) for x in xtrain]\n",
    "print('xtrain :',xtrain[:3])\n",
    "print('ytrain :',ytrain[:3])"
   ]
  },
  {
   "cell_type": "code",
   "execution_count": 5,
   "metadata": {},
   "outputs": [
    {
     "data": {
      "image/png": "[encoded data removed]",
      "text/plain": [
       "<matplotlib.figure.Figure at 0x120df4a58>"
      ]
     },
     "metadata": {},
     "output_type": "display_data"
    }
   ],
   "source": [
    "# actual data 산점도\n",
    "fig, ax = plt.subplots()\n",
    "ax.scatter(xtrain, ytrain, label='actual')\n",
    "plt.show()"
   ]
  },
  {
   "cell_type": "code",
   "execution_count": 6,
   "metadata": {},
   "outputs": [
    {
     "name": "stdout",
     "output_type": "stream",
     "text": [
      "xlist.shape : (100,)\n",
      "ylist.shape : (100,)\n"
     ]
    }
   ],
   "source": [
    "# type 변환 python list -> numpy ndarray\n",
    "# type: numpy ndarray\n",
    "xtrain = np.array(xtrain)\n",
    "ytrain = np.array(ytrain)\n",
    "print('xlist.shape :',xtrain.shape)  # shape ==  (10,)\n",
    "print('ylist.shape :',ytrain.shape)  # shape ==  (10,)"
   ]
  },
  {
   "cell_type": "code",
   "execution_count": 7,
   "metadata": {},
   "outputs": [
    {
     "name": "stdout",
     "output_type": "stream",
     "text": [
      "xlist.shape : (100, 1)\n",
      "ylist.shape : (100, 1)\n"
     ]
    }
   ],
   "source": [
    "# tensor 에 맞추기 위해 reshape\n",
    "xtrain = xtrain.reshape((NUM_DATA, 1))  # shape ==  (10,1)\n",
    "ytrain = ytrain.reshape((NUM_DATA, 1))  # shape ==  (10,1)\n",
    "print('xlist.shape :', xtrain.shape)\n",
    "print('ylist.shape :', ytrain.shape)"
   ]
  },
  {
   "cell_type": "code",
   "execution_count": 8,
   "metadata": {},
   "outputs": [],
   "source": [
    "X = tf.placeholder(tf.float32, [None, 1])\n",
    "Y = tf.placeholder(tf.float32, [None, 1])\n",
    "\n",
    "W = tf.Variable(tf.random_normal([1,10], -1, 1), name='weight')\n",
    "B = tf.Variable(tf.random_normal([10], -1, 1), name='bias')\n",
    "H1 = tf.nn.sigmoid(tf.matmul(X, W) + B)\n",
    "\n",
    "W2 = tf.Variable(tf.random_normal([10,1], -1, 1), name='weight1')\n",
    "B2 = tf.Variable(tf.random_normal([1], -1, 1), name='bias1')\n",
    "Y2 = (tf.matmul(H1, W2) + B2)   # [1,1]행렬 x [1,1]행렬 + [1]\n",
    "\n"
   ]
  },
  {
   "cell_type": "code",
   "execution_count": 9,
   "metadata": {},
   "outputs": [],
   "source": [
    "# 손실 함수\n",
    "cost_function = tf.reduce_mean(tf.square(Y2 - Y))\n",
    "# 옵티마이저\n",
    "#optimizer = tf.train.GradientDescentOptimizer(learning_rate=0.1)\n",
    "optimizer = tf.train.AdamOptimizer(learning_rate=0.2)\n",
    "training = optimizer.minimize(cost_function)"
   ]
  },
  {
   "cell_type": "code",
   "execution_count": 10,
   "metadata": {},
   "outputs": [],
   "source": [
    "# loss list\n",
    "history = []           # Record loss values for plot"
   ]
  },
  {
   "cell_type": "code",
   "execution_count": 11,
   "metadata": {},
   "outputs": [
    {
     "name": "stdout",
     "output_type": "stream",
     "text": [
      "[0000] LOSS 26.231525\n",
      "[0050] LOSS 0.5701498\n",
      "[0100] LOSS 0.3496622\n",
      "[0150] LOSS 0.29749882\n",
      "[0200] LOSS 0.28898427\n",
      "[0250] LOSS 0.285536\n",
      "[0300] LOSS 0.28339627\n",
      "[0350] LOSS 0.2799401\n",
      "[0400] LOSS 0.22820774\n",
      "[0450] LOSS 0.046199474\n",
      "[0500] LOSS 0.012213446\n",
      "[0550] LOSS 0.007095728\n",
      "[0600] LOSS 0.0050454484\n",
      "[0650] LOSS 0.0040396936\n",
      "[0700] LOSS 0.0034110742\n",
      "[0750] LOSS 0.0027709657\n",
      "[0800] LOSS 0.002102197\n",
      "[0850] LOSS 0.0018154338\n",
      "[0900] LOSS 0.001696172\n",
      "[0950] LOSS 0.0015941134\n",
      "[1000] LOSS 0.0014925161\n",
      "[1050] LOSS 0.0013924697\n",
      "[1100] LOSS 0.0013004404\n",
      "[1150] LOSS 0.0012228462\n",
      "[1200] LOSS 0.0029771256\n",
      "[1250] LOSS 0.0011908459\n",
      "[1300] LOSS 0.0011056405\n",
      "[1350] LOSS 0.0010734351\n",
      "[1400] LOSS 0.0010502416\n",
      "[1450] LOSS 0.0012028698\n",
      "[1500] LOSS 0.0010474741\n",
      "[1550] LOSS 0.0010244742\n",
      "[1600] LOSS 0.001007621\n",
      "[1650] LOSS 0.0011724542\n",
      "[1700] LOSS 0.0010288086\n",
      "[1750] LOSS 0.0010054945\n",
      "[1800] LOSS 0.000986191\n",
      "[1850] LOSS 0.010751443\n",
      "[1900] LOSS 0.0010995979\n",
      "[1950] LOSS 0.0010051946\n",
      "[2000] LOSS 0.0009827929\n",
      "[2050] LOSS 0.0009638526\n",
      "[2100] LOSS 0.0009469913\n",
      "[2150] LOSS 0.002450995\n",
      "[2200] LOSS 0.0009989272\n",
      "[2250] LOSS 0.00096916914\n",
      "[2300] LOSS 0.0009475717\n",
      "[2350] LOSS 0.00092906336\n",
      "[2400] LOSS 0.00091245986\n",
      "[2450] LOSS 0.0008982642\n",
      "[2500] LOSS 0.0012180096\n",
      "[2550] LOSS 0.0009119415\n",
      "[2600] LOSS 0.0008902429\n",
      "[2650] LOSS 0.0008718556\n",
      "[2700] LOSS 0.0008548274\n",
      "[2750] LOSS 0.00083865045\n",
      "[2800] LOSS 0.0008412445\n",
      "[2850] LOSS 0.00094971195\n",
      "[2900] LOSS 0.00080715684\n",
      "[2950] LOSS 0.000786625\n"
     ]
    }
   ],
   "source": [
    "# Session 시작\n",
    "sess = tf.Session()\n",
    "sess.run(tf.global_variables_initializer())\n",
    "for i in range(3000):\n",
    "  res, cost  = sess.run([training, cost_function],\n",
    "                        feed_dict={X: xtrain, Y:ytrain})\n",
    "  if i % 50 == 0:\n",
    "    y2, w, b = sess.run([Y2, W, B], feed_dict={X: xtrain, Y: ytrain})\n",
    "    #print('[%04d]' % i, 'LOSS', cost, 'W', w, 'bias', b)\n",
    "    print('[%04d]' % i, 'LOSS', cost)\n",
    "\n",
    "    history.append(cost)"
   ]
  },
  {
   "cell_type": "code",
   "execution_count": 12,
   "metadata": {},
   "outputs": [],
   "source": [
    "## loss 값의 변화 그래프"
   ]
  },
  {
   "cell_type": "code",
   "execution_count": 13,
   "metadata": {},
   "outputs": [
    {
     "name": "stderr",
     "output_type": "stream",
     "text": [
      "No handles with labels found to put in legend.\n"
     ]
    },
    {
     "data": {
      "image/png": "[encoded data removed]",
      "text/plain": [
       "<matplotlib.figure.Figure at 0x120e27668>"
      ]
     },
     "metadata": {},
     "output_type": "display_data"
    }
   ],
   "source": [
    "# Plot the accuracy and cost summaries\n",
    "f, ax = plt.subplots()\n",
    "\n",
    "ax.plot(history)    # GradientDescentOptimizer\n",
    "ax.set_title('optimizer')\n",
    "\n",
    "plt.xlabel('Epochs')\n",
    "plt.ylabel('Losses')\n",
    "plt.legend()\n",
    "plt.show()"
   ]
  },
  {
   "cell_type": "markdown",
   "metadata": {},
   "source": [
    "## 학습 데이터에 대한 정확도 확인 (학습 오차 확인)"
   ]
  },
  {
   "cell_type": "code",
   "execution_count": 14,
   "metadata": {},
   "outputs": [
    {
     "name": "stdout",
     "output_type": "stream",
     "text": [
      "1.02  1.03 오차율 0.16 %\n",
      "1.04  1.08 오차율 3.92 %\n",
      "1.05  1.10 오차율 5.05 %\n",
      "1.06  1.06 오차율 0.18 %\n",
      "1.11  1.08 오차율 2.97 %\n",
      "1.12  1.07 오차율 4.43 %\n",
      "1.13  1.08 오차율 5.07 %\n",
      "1.17  1.13 오차율 3.57 %\n",
      "1.24  1.28 오차율 3.68 %\n",
      "1.26  1.29 오차율 2.14 %\n",
      "1.27  1.27 오차율 0.37 %\n",
      "1.28  1.23 오차율 4.06 %\n",
      "1.28  1.26 오차율 1.75 %\n",
      "1.30  1.30 오차율 0.25 %\n",
      "1.30  1.26 오차율 3.28 %\n",
      "1.29  1.34 오차율 3.55 %\n",
      "1.29  1.34 오차율 4.16 %\n",
      "1.28  1.34 오차율 4.28 %\n",
      "1.28  1.29 오차율 0.79 %\n",
      "1.27  1.27 오차율 0.44 %\n",
      "1.20  1.25 오차율 4.21 %\n",
      "1.10  1.05 오차율 4.44 %\n",
      "1.10  1.13 오차율 2.79 %\n",
      "1.07  1.01 오차율 5.71 %\n",
      "1.01  0.99 오차율 2.23 %\n",
      "0.97  0.96 오차율 1.00 %\n",
      "0.94  0.93 오차율 1.08 %\n",
      "0.68  0.68 오차율 0.69 %\n",
      "0.67  0.67 오차율 0.19 %\n",
      "0.63  0.61 오차율 3.53 %\n",
      "0.39  0.39 오차율 0.25 %\n",
      "0.35  0.34 오차율 4.25 %\n",
      "0.33  0.31 오차율 7.80 %\n",
      "0.26  0.25 오차율 4.83 %\n",
      "0.18  0.17 오차율 8.10 %\n",
      "0.11  0.12 오차율 3.24 %\n",
      "0.04  0.04 오차율 10.42 %\n",
      "-0.03  -0.02 오차율 -31.81 %\n",
      "-0.03  -0.02 오차율 -24.18 %\n",
      "-0.13  -0.12 오차율 -11.05 %\n",
      "-0.13  -0.13 오차율 -4.73 %\n",
      "-0.23  -0.21 오차율 -7.88 %\n",
      "-0.45  -0.42 오차율 -7.10 %\n",
      "-0.53  -0.50 오차율 -5.36 %\n",
      "-0.63  -0.63 오차율 -0.44 %\n",
      "-0.65  -0.66 오차율 -1.46 %\n",
      "-0.66  -0.63 오차율 -3.88 %\n",
      "-0.74  -0.74 오차율 -0.11 %\n",
      "-0.75  -0.71 오차율 -5.46 %\n",
      "-0.77  -0.77 오차율 -0.11 %\n",
      "-0.79  -0.77 오차율 -2.59 %\n",
      "-0.80  -0.76 오차율 -4.12 %\n",
      "-0.81  -0.79 오차율 -2.68 %\n",
      "-0.84  -0.84 오차율 -0.15 %\n",
      "-0.89  -0.95 오차율 -5.58 %\n",
      "-0.92  -0.96 오차율 -4.16 %\n",
      "-0.95  -0.93 오차율 -1.94 %\n",
      "-0.96  -0.94 오차율 -2.33 %\n",
      "-0.98  -1.01 오차율 -3.69 %\n",
      "-0.99  -1.05 오차율 -5.52 %\n",
      "-1.00  -1.03 오차율 -2.98 %\n",
      "-1.01  -1.02 오차율 -1.27 %\n",
      "-1.02  -1.03 오차율 -1.20 %\n",
      "-1.02  -1.02 오차율 -0.45 %\n",
      "-1.02  -1.00 오차율 -1.77 %\n",
      "-1.02  -1.00 오차율 -2.09 %\n",
      "-1.02  -1.08 오차율 -5.79 %\n",
      "-0.95  -0.98 오차율 -2.93 %\n",
      "-0.90  -0.93 오차율 -2.19 %\n",
      "-0.89  -0.85 오차율 -4.61 %\n",
      "-0.89  -0.92 오차율 -3.40 %\n",
      "-0.83  -0.82 오차율 -1.62 %\n",
      "-0.68  -0.64 오차율 -6.09 %\n",
      "-0.66  -0.64 오차율 -3.92 %\n",
      "-0.58  -0.55 오차율 -6.14 %\n",
      "-0.47  -0.43 오차율 -8.44 %\n",
      "-0.39  -0.38 오차율 -3.67 %\n",
      "-0.26  -0.24 오차율 -7.03 %\n",
      "-0.11  -0.10 오차율 -4.53 %\n",
      "-0.06  -0.05 오차율 -2.61 %\n",
      "0.01  0.01 오차율 15.15 %\n",
      "0.14  0.14 오차율 1.77 %\n",
      "0.19  0.19 오차율 1.05 %\n",
      "0.25  0.23 오차율 9.22 %\n",
      "0.26  0.24 오차율 7.08 %\n",
      "0.29  0.28 오차율 2.20 %\n",
      "0.30  0.30 오차율 0.89 %\n",
      "0.32  0.29 오차율 9.78 %\n",
      "0.37  0.37 오차율 1.56 %\n",
      "0.37  0.36 오차율 4.48 %\n",
      "0.41  0.40 오차율 3.86 %\n",
      "0.47  0.46 오차율 3.44 %\n",
      "0.67  0.68 오차율 0.34 %\n",
      "0.74  0.73 오차율 0.20 %\n",
      "0.83  0.84 오차율 1.25 %\n",
      "0.86  0.89 오차율 3.01 %\n",
      "0.99  0.97 오차율 2.02 %\n",
      "1.14  1.17 오차율 2.33 %\n",
      "1.19  1.18 오차율 0.42 %\n",
      "1.19  1.21 오차율 1.25 %\n"
     ]
    }
   ],
   "source": [
    "y_from_nn = sess.run([Y2], feed_dict={X: xtrain})\n",
    "\n",
    "for y_nn, y_real in zip(y_from_nn[0], ytrain):\n",
    "    err = abs(y_nn[0] - y_real) / y_real * 100\n",
    "    print('%.2f  %.2f 오차율 %.2f %%' % (y_nn[0], y_real, err))\n",
    "    "
   ]
  },
  {
   "cell_type": "markdown",
   "metadata": {},
   "source": [
    "## 테스트 데이터로 해보기"
   ]
  },
  {
   "cell_type": "code",
   "execution_count": 15,
   "metadata": {},
   "outputs": [],
   "source": [
    "x_unseen = [random.random() * XVALUE for i in range(NUM_DATA)]\n",
    "x_unseen = np.array(x_unseen).reshape((NUM_DATA, 1))\n",
    "\n",
    "y_unseen = sess.run([Y2], feed_dict={X: x_unseen})"
   ]
  },
  {
   "cell_type": "code",
   "execution_count": 16,
   "metadata": {},
   "outputs": [
    {
     "data": {
      "image/png": "[encoded data removed]",
      "text/plain": [
       "<matplotlib.figure.Figure at 0x12143aba8>"
      ]
     },
     "metadata": {},
     "output_type": "display_data"
    }
   ],
   "source": [
    "fig, ax = plt.subplots()\n",
    "ax.scatter(xtrain, ytrain, label='train')\n",
    "ax.scatter(x_unseen, y_unseen, label='unseen')\n",
    "\n",
    "ax.legend()\n",
    "plt.show()"
   ]
  },
  {
   "cell_type": "code",
   "execution_count": null,
   "metadata": {},
   "outputs": [],
   "source": []
  },
  {
   "cell_type": "code",
   "execution_count": null,
   "metadata": {},
   "outputs": [],
   "source": []
  }
 ],
 "metadata": {
  "kernelspec": {
   "display_name": "Python 3",
   "language": "python",
   "name": "python3"
  },
  "language_info": {
   "codemirror_mode": {
    "name": "ipython",
    "version": 3
   },
   "file_extension": ".py",
   "mimetype": "text/x-python",
   "name": "python",
   "nbconvert_exporter": "python",
   "pygments_lexer": "ipython3",
   "version": "3.5.4"
  }
 },
 "nbformat": 4,
 "nbformat_minor": 2
}
