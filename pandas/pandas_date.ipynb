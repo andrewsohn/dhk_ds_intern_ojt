{
 "cells": [
  {
   "cell_type": "code",
   "execution_count": 1,
   "metadata": {
    "collapsed": true
   },
   "outputs": [],
   "source": [
    "import pandas as pd\n",
    "import numpy as np\n",
    "import datetime\n",
    "\n",
    "#\n",
    "hangul_weekday = ['월', '화', '수', '목', '금', '토', '일']\n",
    "\n",
    "# read_csv()에서 encoding를 지정하지 않으면 'utf-8'로 간주한다. 즉, default=='utf-8'\n",
    "# csv 파일내에 'null' 문자열이 존재함 --> na_values 지정을 해결함.\n",
    "df = pd.read_csv('sk_train_data.csv'\n",
    "                 ,encoding='euc-kr'\n",
    "                  ,na_values=['null']\n",
    "                 ,dtype={'collect_date':str, '급기풍량':np.float64,   '환수유량': np.float64,   '환기온도':np.float64}\n",
    "                )\n",
    "\n"
   ]
  },
  {
   "cell_type": "code",
   "execution_count": 2,
   "metadata": {},
   "outputs": [
    {
     "name": "stdout",
     "output_type": "stream",
     "text": [
      "      collect_date    급기풍량   환수유량   환기온도\n",
      "0  2017-11-01 0:00  16.802  0.477  18.87\n",
      "1  2017-11-01 0:15  19.102  0.493  18.64\n",
      "2  2017-11-01 0:30  16.802  0.477  18.58\n",
      "3  2017-11-01 0:45  16.802  0.493  18.49\n",
      "4  2017-11-01 1:00  19.102  0.460  18.41\n",
      "5  2017-11-01 1:15  19.102  0.427  18.36\n",
      "6  2017-11-01 1:30  16.802  0.493  18.29\n",
      "7  2017-11-01 1:45  16.802  0.477  18.25\n",
      "8  2017-11-01 2:00  17.953  0.427  18.22\n",
      "9  2017-11-01 2:15  16.802  0.443  18.18\n"
     ]
    }
   ],
   "source": [
    "print(df[:10])\n"
   ]
  },
  {
   "cell_type": "code",
   "execution_count": 3,
   "metadata": {},
   "outputs": [
    {
     "name": "stdout",
     "output_type": "stream",
     "text": [
      "0    16.802\n",
      "1    19.102\n",
      "2    16.802\n",
      "3    16.802\n",
      "4    19.102\n",
      "5    19.102\n",
      "6    16.802\n",
      "7    16.802\n",
      "8    17.953\n",
      "9    16.802\n",
      "Name: 급기풍량, dtype: float64\n"
     ]
    }
   ],
   "source": [
    "print(df[:10].급기풍량)"
   ]
  },
  {
   "cell_type": "code",
   "execution_count": 4,
   "metadata": {
    "collapsed": true
   },
   "outputs": [],
   "source": [
    "# 'sk_train_data.csv'파일의  첫번째 컬럼 이름이 'collect_date'로 되어 있다\n",
    "# 날짜 시간으로 부터 요일을 구하자\n",
    "\n",
    "# 일단 '2017-11-01 0:00' 문자열로부터 요일을 구하는 함수를 정의(define)한다.\n",
    "# def xxxx()는 함수를 정의하는 것. 함수가 실행되는 것은 아님.\n",
    "def get_dayofweek(datestr):\n",
    "  # 파일내의 시간정보 포맷: 2017-11-01 0:00\n",
    "  dinfo = datetime.datetime.strptime(datestr, '%Y-%m-%d %H:%M')\n",
    "  # dinfo.weekday() 가 요일.  5==토요일,6==일요일,\n",
    "  # 아래의 print는 디버깅용. 실행할때는 comment out 하는 것이 좋음.\n",
    "  #print(datestr, '-->', dinfo.weekday())\n",
    "  return dinfo.weekday()"
   ]
  },
  {
   "cell_type": "code",
   "execution_count": 6,
   "metadata": {},
   "outputs": [],
   "source": [
    "# 요일의 한글이름  \n",
    "def get_dayofweek2(datestr):\n",
    "  dinfo = datetime.datetime.strptime(datestr, '%Y-%m-%d %H:%M')\n",
    "  return hangul_weekday[dinfo.weekday()]"
   ]
  },
  {
   "cell_type": "code",
   "execution_count": 7,
   "metadata": {
    "collapsed": true
   },
   "outputs": [],
   "source": [
    "# 컬럼이 주어지면 그 컬럼의 min,max,std 출력\n",
    "def print_info_column(col):\n",
    "  #print(type(col))\n",
    "  print('# 컬럼', col.name)\n",
    "  print('\\tMAX:', col.max(), end=' ')\n",
    "  print('MIN:', col.min(), end=' ')\n",
    "  print('AVG:', col.mean(), end=' ')\n",
    "  print('STD:', col.std(), end='\\n')"
   ]
  },
  {
   "cell_type": "code",
   "execution_count": 8,
   "metadata": {
    "collapsed": true
   },
   "outputs": [],
   "source": [
    "  \n",
    "## 요일 컬럼을 새로 만든다\n",
    "df.fillna(0)\n",
    "df['DAYWEEK'] = df.collect_date.map(get_dayofweek)\n",
    "df['요일'] = df.collect_date.map(get_dayofweek2)\n"
   ]
  },
  {
   "cell_type": "code",
   "execution_count": 9,
   "metadata": {},
   "outputs": [
    {
     "name": "stdout",
     "output_type": "stream",
     "text": [
      "0    수\n",
      "1    수\n",
      "2    수\n",
      "3    수\n",
      "4    수\n",
      "5    수\n",
      "6    수\n",
      "7    수\n",
      "8    수\n",
      "9    수\n",
      "Name: 요일, dtype: object\n"
     ]
    }
   ],
   "source": [
    "print(df[:10]['요일'])"
   ]
  },
  {
   "cell_type": "code",
   "execution_count": 10,
   "metadata": {},
   "outputs": [
    {
     "name": "stdout",
     "output_type": "stream",
     "text": [
      "\n",
      "## 요일: 월\n",
      "# 컬럼 급기풍량\n",
      "\tMAX: 26610.826 MIN: 14.499 AVG: 2930.0336176870646 STD: 6435.060207530104\n",
      "# 컬럼 환수유량\n",
      "\tMAX: 346.693 MIN: 0.0 AVG: 123.81410204081628 STD: 132.2187443317372\n",
      "\n",
      "## 요일: 화\n",
      "# 컬럼 급기풍량\n",
      "\tMAX: 25236.76 MIN: 13.35 AVG: 3140.563477864573 STD: 6985.292395099606\n",
      "# 컬럼 환수유량\n",
      "\tMAX: 385.298 MIN: 0.0 AVG: 153.15609765625007 STD: 139.0982488819151\n",
      "\n",
      "## 요일: 수\n",
      "# 컬럼 급기풍량\n",
      "\tMAX: 26662.611 MIN: 12.198 AVG: 3176.536291860456 STD: 6906.594729701823\n",
      "# 컬럼 환수유량\n",
      "\tMAX: 377.28 MIN: 0.0 AVG: 143.70628455284566 STD: 137.24306898202119\n",
      "\n",
      "## 요일: 목\n",
      "# 컬럼 급기풍량\n",
      "\tMAX: 30951.672 MIN: 11.047 AVG: 3455.2507488425795 STD: 7605.360303917516\n",
      "# 컬럼 환수유량\n",
      "\tMAX: 398.483 MIN: 0.0 AVG: 143.11547685185175 STD: 141.43085335923237\n",
      "\n",
      "## 요일: 금\n",
      "# 컬럼 급기풍량\n",
      "\tMAX: 31117.389 MIN: 9.896 AVG: 3244.827334106719 STD: 7223.890090950139\n",
      "# 컬럼 환수유량\n",
      "\tMAX: 348.276 MIN: 0.0 AVG: 129.46048319814594 STD: 137.3237674621951\n",
      "\n",
      "## 요일: 토\n",
      "# 컬럼 급기풍량\n",
      "\tMAX: 24947.906 MIN: 14.499 AVG: 421.6071657010417 STD: 2859.387756859467\n",
      "# 컬럼 환수유량\n",
      "\tMAX: 392.933 MIN: 0.0 AVG: 32.74961574074078 STD: 81.17628124483012\n",
      "\n",
      "## 요일: 일\n",
      "# 컬럼 급기풍량\n",
      "\tMAX: 25602.717 MIN: 14.499 AVG: 1558.4610836408285 STD: 5679.548981606668\n",
      "# 컬럼 환수유량\n",
      "\tMAX: 311.121 MIN: 0.0 AVG: 25.20257441574413 STD: 76.67092299006644\n",
      "# 컬럼 환기온도\n",
      "\tMAX: 21.97 MIN: 3.81 AVG: 10.485916359163582 STD: 3.3763535221146626\n"
     ]
    }
   ],
   "source": [
    "### 요일별로 해보자\n",
    "for wday in hangul_weekday:\n",
    "  print('\\n## 요일:', wday)\n",
    "  # 특정 요일별\n",
    "  df_per_wday = df[ (df.요일 == wday) ]\n",
    "  print_info_column(df_per_wday.급기풍량)\n",
    "  print_info_column(df_per_wday.환수유량)\n",
    "\n",
    "print_info_column(df_per_wday.환기온도)"
   ]
  },
  {
   "cell_type": "code",
   "execution_count": 11,
   "metadata": {},
   "outputs": [
    {
     "data": {
      "text/plain": [
       "<matplotlib.figure.Figure at 0x7f610467d6a0>"
      ]
     },
     "metadata": {},
     "output_type": "display_data"
    }
   ],
   "source": [
    "import matplotlib.pyplot as plt\n",
    "## 요일별 라인을 그리기 위해.\n",
    "def draw_lines(xypairs, title):\n",
    "  fig, ax = plt.subplots()\n",
    "  \n",
    "  for X, Y, label in xypairs:\n",
    "    ax.plot(X, Y, label=label)\n",
    "  ax.set_xlabel('X')\n",
    "  ax.set_ylabel('Y')\n",
    "  ax.set_title(title)\n",
    "  plt.legend()\n",
    "  plt.show()\n",
    "  \n",
    "\n",
    "### 요일별로 라인 차트 그려보자\n",
    "\n",
    "\n",
    "fig, ax = plt.subplots()\n",
    "for i, wday in enumerate(hangul_weekday):\n",
    "  df_per_wday = df[ (df.요일 == wday) & (df.collect_date >= '2017-12-01') ]\n",
    "  ax.plot(df_per_wday.급기풍량.values, label=i)\n",
    "  \n",
    "plt.legend()\n",
    "plt.show()\n"
   ]
  },
  {
   "cell_type": "code",
   "execution_count": null,
   "metadata": {
    "collapsed": true
   },
   "outputs": [],
   "source": []
  }
 ],
 "metadata": {
  "kernelspec": {
   "display_name": "Python 3.6",
   "language": "python",
   "name": "python36"
  },
  "language_info": {
   "codemirror_mode": {
    "name": "ipython",
    "version": 3
   },
   "file_extension": ".py",
   "mimetype": "text/x-python",
   "name": "python",
   "nbconvert_exporter": "python",
   "pygments_lexer": "ipython3",
   "version": "3.6.3"
  }
 },
 "nbformat": 4,
 "nbformat_minor": 2
}
