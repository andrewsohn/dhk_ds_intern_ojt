{
 "cells": [
  {
   "cell_type": "markdown",
   "metadata": {},
   "source": [
    "## Linear Regression  (월수익과 카드사용액의 관계)"
   ]
  },
  {
   "cell_type": "code",
   "execution_count": 1,
   "metadata": {},
   "outputs": [],
   "source": [
    "import math\n",
    "import matplotlib.pyplot as plt\n",
    "\n",
    "income = [100,200,300,400,500] # 월수익\n",
    "card = [30, 57, 76, 140, 197] # 카드사용금액\n",
    "\n"
   ]
  },
  {
   "cell_type": "code",
   "execution_count": 2,
   "metadata": {},
   "outputs": [
    {
     "name": "stdout",
     "output_type": "stream",
     "text": [
      "100 30\n",
      "200 57\n",
      "300 76\n",
      "400 140\n",
      "500 197\n"
     ]
    }
   ],
   "source": [
    "for i in range(5):\n",
    "  print(income[i], card[i])"
   ]
  },
  {
   "cell_type": "code",
   "execution_count": 4,
   "metadata": {},
   "outputs": [
    {
     "name": "stdout",
     "output_type": "stream",
     "text": [
      "100 30\n",
      "200 57\n",
      "300 76\n",
      "400 140\n",
      "500 197\n"
     ]
    }
   ],
   "source": [
    "for x, y in ???(income, card):\n",
    "  print(x, y)"
   ]
  },
  {
   "cell_type": "code",
   "execution_count": 6,
   "metadata": {},
   "outputs": [
    {
     "data": {
      "image/png": "[encoded data removed]",
      "text/plain": [
       "<matplotlib.figure.Figure at 0x7f067db41390>"
      ]
     },
     "metadata": {},
     "output_type": "display_data"
    }
   ],
   "source": [
    "fig, ax = plt.subplots()\n",
    "ax.plot(income, card)\n",
    "ax.set_xlabel('Income')\n",
    "ax.set_ylabel('Card')\n",
    "ax.scatter(income, card)\n",
    "plt.show()"
   ]
  },
  {
   "cell_type": "markdown",
   "metadata": {},
   "source": [
    "### 평균 (mean) 구하기"
   ]
  },
  {
   "cell_type": "code",
   "execution_count": 7,
   "metadata": {},
   "outputs": [
    {
     "name": "stdout",
     "output_type": "stream",
     "text": [
      "MEAN 300.0 100.0\n"
     ]
    }
   ],
   "source": [
    "mean_income = sum(income) / len(income)\n",
    "mean_card = ???(card) / ???(card)\n",
    "print('MEAN', mean_income, mean_card)"
   ]
  },
  {
   "cell_type": "markdown",
   "metadata": {},
   "source": [
    "### 분산값 구하기"
   ]
  },
  {
   "cell_type": "code",
   "execution_count": 8,
   "metadata": {},
   "outputs": [
    {
     "name": "stdout",
     "output_type": "stream",
     "text": [
      "VAR 20000.0\n"
     ]
    }
   ],
   "source": [
    "a = [(x-mean_income) * (x-mean_income) for ??? in income]\n",
    "variance_income = sum(a) / len(a)\n",
    "print('VAR', variance_income)"
   ]
  },
  {
   "cell_type": "markdown",
   "metadata": {},
   "source": [
    "### 공분산(covariance)구하기"
   ]
  },
  {
   "cell_type": "code",
   "execution_count": 9,
   "metadata": {},
   "outputs": [
    {
     "name": "stdout",
     "output_type": "stream",
     "text": [
      "COV 8340.0\n"
     ]
    }
   ],
   "source": [
    "b = [ (x-mean_income) * (y - ???) for x, y in zip(income, card)]\n",
    "covariance = sum(b) /  len(b)\n",
    "print('COV', covariance)"
   ]
  },
  {
   "cell_type": "markdown",
   "metadata": {},
   "source": [
    "### 통계적 방법으로 기울기(B0), y절편(B1)구하기"
   ]
  },
  {
   "cell_type": "code",
   "execution_count": 11,
   "metadata": {},
   "outputs": [
    {
     "name": "stdout",
     "output_type": "stream",
     "text": [
      "B1 0.417\n",
      "-25.099999999999994\n"
     ]
    }
   ],
   "source": [
    "# B1 = (X,Y의 covariance) / (X의 분산)\n",
    "B1 = covariance / variance_income\n",
    "print('B1', B1)\n",
    "# y = B0 + B1 * X\n",
    "# B0 = Y - B1 * X\n",
    "B0 = mean_card - B1 * mean_income\n",
    "print(B0)"
   ]
  },
  {
   "cell_type": "markdown",
   "metadata": {},
   "source": [
    "### 통계적 방법으로 도출한 모델로 카드사용량 예측하기"
   ]
  },
  {
   "cell_type": "code",
   "execution_count": 13,
   "metadata": {},
   "outputs": [
    {
     "name": "stdout",
     "output_type": "stream",
     "text": [
      "원데이터 출력값 [30, 57, 76, 140, 197]\n",
      "모델의 출력값 [16.6, 58.3, 100.0, 141.7, 183.4]\n"
     ]
    }
   ],
   "source": [
    "card_from_model = [B0 + B1 * x for x in income] \n",
    "print('원데이터 출력값', card)\n",
    "print('모델의 출력값', card_from_model)"
   ]
  },
  {
   "cell_type": "code",
   "execution_count": 13,
   "metadata": {},
   "outputs": [
    {
     "name": "stdout",
     "output_type": "stream",
     "text": [
      "30 16.6\n",
      "57 58.3\n",
      "76 100.0\n",
      "140 141.7\n",
      "197 183.4\n"
     ]
    }
   ],
   "source": [
    "for y1, y2 in ???(card, card_from_model):\n",
    "    print(y1, y2)"
   ]
  },
  {
   "cell_type": "code",
   "execution_count": 14,
   "metadata": {},
   "outputs": [
    {
     "data": {
      "image/png": "[encoded data removed]",
      "text/plain": [
       "<matplotlib.figure.Figure at 0x7f067a8917f0>"
      ]
     },
     "metadata": {},
     "output_type": "display_data"
    }
   ],
   "source": [
    "fig, ax = plt.subplots()\n",
    "ax.plot(income, card, label='Real')\n",
    "ax.???(income, card_from_model, label='Model')\n",
    "ax.scatter(income, card, c='blue')\n",
    "ax.???(income, card_from_model, c='red')\n",
    "ax.set_xlabel('Income')\n",
    "ax.set_ylabel('Card')\n",
    "plt.legend()\n",
    "plt.show()"
   ]
  },
  {
   "cell_type": "code",
   "execution_count": null,
   "metadata": {
    "collapsed": true
   },
   "outputs": [],
   "source": []
  }
 ],
 "metadata": {
  "kernelspec": {
   "display_name": "Python 3.6",
   "language": "python",
   "name": "python36"
  },
  "language_info": {
   "codemirror_mode": {
    "name": "ipython",
    "version": 3
   },
   "file_extension": ".py",
   "mimetype": "text/x-python",
   "name": "python",
   "nbconvert_exporter": "python",
   "pygments_lexer": "ipython3",
   "version": "3.6.3"
  }
 },
 "nbformat": 4,
 "nbformat_minor": 2
}
