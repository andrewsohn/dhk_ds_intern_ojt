{
 "cells": [
  {
   "cell_type": "markdown",
   "metadata": {},
   "source": [
    "## 함수만들기 -- def"
   ]
  },
  {
   "cell_type": "code",
   "execution_count": 1,
   "metadata": {
    "collapsed": true
   },
   "outputs": [],
   "source": [
    "import math\n",
    "import matplotlib.pyplot as plt\n",
    "\n",
    "def calc_variance_covariance(X, Y):\n",
    "  assert len(X) == len(Y)\n",
    "  num = len(X)\n",
    "  x_mean = sum(X) / num\n",
    "  y_mean = sum(Y) / num\n",
    "  x_var = sum([(x - x_mean) * (x - x_mean) for x in X]) / num\n",
    "  y_var = sum([(y - y_mean) * (y - y_mean) for y in Y]) / num\n",
    "  covariance = sum([(y - y_mean) * (x - x_mean) for x, y in zip(X, Y)]) / num\n",
    "  return x_mean, y_mean, x_var, y_var, covariance\n",
    "\n"
   ]
  },
  {
   "cell_type": "code",
   "execution_count": 2,
   "metadata": {
    "collapsed": true
   },
   "outputs": [],
   "source": [
    "income = [100,200,300,400,500] # 월수익\n",
    "card = [30, 57, 76, 140, 197] # 카드사용금액\n"
   ]
  },
  {
   "cell_type": "code",
   "execution_count": 3,
   "metadata": {},
   "outputs": [
    {
     "name": "stdout",
     "output_type": "stream",
     "text": [
      "300.0 100.0 20000.0 3666.8 8340.0\n"
     ]
    }
   ],
   "source": [
    "x_mean, y_mean, x_var, y_var, covariance =  calc_variance_covariance(income, card)\n",
    "print(x_mean, y_mean, x_var, y_var, covariance)"
   ]
  },
  {
   "cell_type": "code",
   "execution_count": 5,
   "metadata": {},
   "outputs": [
    {
     "name": "stdout",
     "output_type": "stream",
     "text": [
      "기울기: 0.42\n"
     ]
    }
   ],
   "source": [
    "# B1 = (X,Y의 covariance) / (X의 분산)\n",
    "slope = covariance / x_var\n",
    "print('기울기: %.2f' % slope)\n"
   ]
  },
  {
   "cell_type": "code",
   "execution_count": 7,
   "metadata": {},
   "outputs": [
    {
     "name": "stdout",
     "output_type": "stream",
     "text": [
      "y절편: -25.10\n"
     ]
    }
   ],
   "source": [
    "# y = B0 + B1 * X\n",
    "# B0 = Y - B1 * X\n",
    "bias = y_mean - slope * x_mean\n",
    "print('y절편: %.2f' % bias)\n"
   ]
  },
  {
   "cell_type": "markdown",
   "metadata": {},
   "source": [
    "### y = slope * x + bias"
   ]
  },
  {
   "cell_type": "code",
   "execution_count": 8,
   "metadata": {
    "collapsed": true
   },
   "outputs": [],
   "source": [
    "y2 = [slope * x + bias for x in income]"
   ]
  },
  {
   "cell_type": "code",
   "execution_count": 9,
   "metadata": {},
   "outputs": [
    {
     "name": "stdout",
     "output_type": "stream",
     "text": [
      "[100, 200, 300, 400, 500]\n",
      "[30, 57, 76, 140, 197]\n",
      "[16.6, 58.3, 100.0, 141.7, 183.4]\n"
     ]
    }
   ],
   "source": [
    "print(income)\n",
    "print(card)\n",
    "print(y2)"
   ]
  },
  {
   "cell_type": "code",
   "execution_count": 10,
   "metadata": {
    "collapsed": true
   },
   "outputs": [],
   "source": [
    "def draw_x_y(X, Y):\n",
    "  fig, ax = plt.subplots()\n",
    "  pair = list(zip(X, Y))\n",
    "  pair.sort()\n",
    "  X = [p[0] for p in pair]\n",
    "  Y = [p[1] for p in pair]\n",
    "  ax.plot(X, Y)\n",
    "  ax.set_xlabel('X')\n",
    "  ax.set_ylabel('Y')\n",
    "  ax.scatter(X, Y)\n",
    "  plt.show()\n",
    "  \n"
   ]
  },
  {
   "cell_type": "code",
   "execution_count": 11,
   "metadata": {},
   "outputs": [
    {
     "data": {
      "image/png": "[encoded data removed]",
      "text/plain": [
       "<matplotlib.figure.Figure at 0x7fc78e3db198>"
      ]
     },
     "metadata": {},
     "output_type": "display_data"
    }
   ],
   "source": [
    "draw_x_y(income, card)\n"
   ]
  },
  {
   "cell_type": "code",
   "execution_count": 7,
   "metadata": {},
   "outputs": [
    {
     "data": {
      "image/png": "[encoded data removed]",
      "text/plain": [
       "<matplotlib.figure.Figure at 0x7fdd092eccc0>"
      ]
     },
     "metadata": {},
     "output_type": "display_data"
    }
   ],
   "source": [
    "draw_x_y(income, y2)\n"
   ]
  },
  {
   "cell_type": "code",
   "execution_count": null,
   "metadata": {
    "collapsed": true
   },
   "outputs": [],
   "source": []
  }
 ],
 "metadata": {
  "kernelspec": {
   "display_name": "Python 3.6",
   "language": "python",
   "name": "python36"
  },
  "language_info": {
   "codemirror_mode": {
    "name": "ipython",
    "version": 3
   },
   "file_extension": ".py",
   "mimetype": "text/x-python",
   "name": "python",
   "nbconvert_exporter": "python",
   "pygments_lexer": "ipython3",
   "version": "3.6.3"
  }
 },
 "nbformat": 4,
 "nbformat_minor": 2
}
